{
 "cells": [
  {
   "cell_type": "code",
   "execution_count": 15,
   "metadata": {
    "collapsed": false
   },
   "outputs": [
   ],
   "source": [
    "import os, urllib.request, json  # json for pretty output\n",
    "from serpapi import GoogleSearch\n",
    "\n",
    "\n",
    "def get_google_images():\n",
    "    params = {\n",
    "        \"api_key\": \"bcee82053e84b27c72bce53c1c9e30bb62eb1d1bc163f8836e09b4583df138c0\",\n",
    "        \"engine\": \"google\",\n",
    "        \"q\": \"evelyn from everything everywhere all at once\",\n",
    "        \"tbm\": \"isch\",\n",
    "    }\n",
    "\n",
    "    search = GoogleSearch(params)\n",
    "    results = search.get_dict()\n",
    "    print(search)\n",
    "    print(results)\n",
    "    # print(json.dumps(results['suggested_searches'], indent=2, ensure_ascii=False))\n",
    "    print(json.dumps(results[\"images_results\"], indent=2, ensure_ascii=False))\n",
    "    # save files to /SerpApi_Images/ if it doesn't exist create the folder\n",
    "    if not os.path.exists(\"./SerpApi_Images/\"):\n",
    "        os.makedirs(\"./SerpApi_Images/\")\n",
    "\n",
    "    # -----------------------\n",
    "    # Downloading images\n",
    "\n",
    "    for index, image in enumerate(results[\"images_results\"]):\n",
    "        print(f\"Downloading {index} image...\")\n",
    "\n",
    "        opener = urllib.request.build_opener()\n",
    "        opener.addheaders = [\n",
    "            (\n",
    "                \"User-Agent\",\n",
    "                \"Mozilla/5.0 (Windows NT 10.0; Win64; x64) AppleWebKit/537.36 (KHTML, like Gecko) Chrome/70.0.3538.102 Safari/537.36 Edge/18.19582\",\n",
    "            )\n",
    "        ]\n",
    "        urllib.request.install_opener(opener)\n",
    "        # filepath is current working directory + SerpApi_Images + params[\"q\"] + index + .jpg\n",
    "        filepath = os.path.join(\"./SerpApi_Images/\", params[\"q\"] + str(index) + \".jpg\")\n",
    "\n",
    "        urllib.request.urlretrieve(image[\"original\"], filepath)\n",
    "\n"
   ]
  },
  {
   "cell_type": "code",
   "execution_count": 14,
   "metadata": {
    "collapsed": false,
    "scrolled": true
   },
   "outputs": [
    {
     "name": "stdout",
     "output_type": "stream",
     "text": [
      "https://serpapi.com/search\n"
     ]
    },
    {
     "name": "stderr",
     "output_type": "stream",
     "text": [
      "WARNING: Some output was deleted.\n"
     ]
    }
   ],
   "source": [
    "get_google_images()"
   ]
  },
  {
   "cell_type": "code",
   "execution_count": 5,
   "metadata": {
    "collapsed": false
   },
   "outputs": [
    {
     "ename": "SyntaxError",
     "evalue": "invalid syntax (1482202780.py, line 1)",
     "output_type": "error",
     "traceback": [
      "\u001b[0;36m  Input \u001b[0;32mIn [5]\u001b[0;36m\u001b[0m\n\u001b[0;31m    \"search_metadata\":\u001b[0m\n\u001b[0m                      ^\u001b[0m\n\u001b[0;31mSyntaxError\u001b[0m\u001b[0;31m:\u001b[0m invalid syntax\n"
     ]
    }
   ],
   "source": [
   ]
  },
  {
   "cell_type": "code",
   "execution_count": 0,
   "metadata": {
    "collapsed": false
   },
   "outputs": [
   ],
   "source": [
   ]
  }
 ],
 "metadata": {
  "kernelspec": {
   "display_name": "Python (cv_env)",
   "language": "python",
   "metadata": {
    "debugger": true
   },
   "name": "cv_env",
   "resource_dir": "/projects/e3d2641f-202e-4d19-8d28-c5191fb7dcfc/.local/share/jupyter/kernels/cv_env"
  },
  "language_info": {
   "codemirror_mode": {
    "name": "ipython",
    "version": 3
   },
   "file_extension": ".py",
   "mimetype": "text/x-python",
   "name": "python",
   "nbconvert_exporter": "python",
   "pygments_lexer": "ipython3",
   "version": "3.8.13"
  }
 },
 "nbformat": 4,
 "nbformat_minor": 4
}