{
 "cells": [
  {
   "cell_type": "code",
   "execution_count": 6,
   "metadata": {
    "collapsed": false
   },
   "outputs": [
    {
     "name": "stdout",
     "output_type": "stream",
     "text": [
      "Collecting pyyaml\r\n"
     ]
    },
    {
     "name": "stdout",
     "output_type": "stream",
     "text": [
      "  Downloading PyYAML-6.0-cp38-cp38-manylinux_2_5_x86_64.manylinux1_x86_64.manylinux_2_12_x86_64.manylinux2010_x86_64.whl (701 kB)\r\n",
      "\u001b[?25l\r\u001b[K     |▌                               | 10 kB 18.8 MB/s eta 0:00:01\r\u001b[K     |█                               | 20 kB 22.6 MB/s eta 0:00:01\r\u001b[K     |█▍                              | 30 kB 25.9 MB/s eta 0:00:01\r\u001b[K     |█▉                              | 40 kB 17.7 MB/s eta 0:00:01\r\u001b[K     |██▍                             | 51 kB 14.7 MB/s eta 0:00:01\r\u001b[K     |██▉                             | 61 kB 16.9 MB/s eta 0:00:01\r\u001b[K     |███▎                            | 71 kB 17.7 MB/s eta 0:00:01\r\u001b[K     |███▊                            | 81 kB 16.6 MB/s eta 0:00:01\r\u001b[K     |████▏                           | 92 kB 18.1 MB/s eta 0:00:01\r\u001b[K     |████▊                           | 102 kB 18.6 MB/s eta 0:00:01\r\u001b[K     |█████▏                          | 112 kB 18.6 MB/s eta 0:00:01\r\u001b[K     |█████▋                          | 122 kB 18.6 MB/s eta 0:00:01\r\u001b[K     |██████                          | 133 kB 18.6 MB/s eta 0:00:01\r\u001b[K     |██████▌                         | 143 kB 18.6 MB/s eta 0:00:01\r\u001b[K     |███████                         | 153 kB 18.6 MB/s eta 0:00:01\r\u001b[K     |███████▌                        | 163 kB 18.6 MB/s eta 0:00:01\r\u001b[K     |████████                        | 174 kB 18.6 MB/s eta 0:00:01\r\u001b[K     |████████▍                       | 184 kB 18.6 MB/s eta 0:00:01\r\u001b[K     |████████▉                       | 194 kB 18.6 MB/s eta 0:00:01\r\u001b[K     |█████████▍                      | 204 kB 18.6 MB/s eta 0:00:01\r\u001b[K     |█████████▉                      | 215 kB 18.6 MB/s eta 0:00:01\r\u001b[K     |██████████▎                     | 225 kB 18.6 MB/s eta 0:00:01\r\u001b[K     |██████████▊                     | 235 kB 18.6 MB/s eta 0:00:01\r\u001b[K     |███████████▏                    | 245 kB 18.6 MB/s eta 0:00:01\r\u001b[K     |███████████▊                    | 256 kB 18.6 MB/s eta 0:00:01\r\u001b[K     |████████████▏                   | 266 kB 18.6 MB/s eta 0:00:01\r\u001b[K     |████████████▋                   | 276 kB 18.6 MB/s eta 0:00:01\r\u001b[K     |█████████████                   | 286 kB 18.6 MB/s eta 0:00:01\r\u001b[K     |█████████████▌                  | 296 kB 18.6 MB/s eta 0:00:01\r\u001b[K     |██████████████                  | 307 kB 18.6 MB/s eta 0:00:01\r\u001b[K     |██████████████▌                 | 317 kB 18.6 MB/s eta 0:00:01\r\u001b[K     |███████████████                 | 327 kB 18.6 MB/s eta 0:00:01\r\u001b[K     |███████████████▍                | 337 kB 18.6 MB/s eta 0:00:01\r\u001b[K     |███████████████▉                | 348 kB 18.6 MB/s eta 0:00:01\r\u001b[K     |████████████████▍               | 358 kB 18.6 MB/s eta 0:00:01\r\u001b[K     |████████████████▉               | 368 kB 18.6 MB/s eta 0:00:01\r\u001b[K     |█████████████████▎              | 378 kB 18.6 MB/s eta 0:00:01\r\u001b[K     |█████████████████▊              | 389 kB 18.6 MB/s eta 0:00:01\r\u001b[K     |██████████████████▎             | 399 kB 18.6 MB/s eta 0:00:01\r\u001b[K     |██████████████████▊             | 409 kB 18.6 MB/s eta 0:00:01\r\u001b[K     |███████████████████▏            | 419 kB 18.6 MB/s eta 0:00:01\r\u001b[K     |███████████████████▋            | 430 kB 18.6 MB/s eta 0:00:01\r\u001b[K     |████████████████████            | 440 kB 18.6 MB/s eta 0:00:01\r\u001b[K     |████████████████████▋           | 450 kB 18.6 MB/s eta 0:00:01\r\u001b[K     |█████████████████████           | 460 kB 18.6 MB/s eta 0:00:01\r\u001b[K     |█████████████████████▌          | 471 kB 18.6 MB/s eta 0:00:01\r\u001b[K     |██████████████████████          | 481 kB 18.6 MB/s eta 0:00:01\r\u001b[K     |██████████████████████▍         | 491 kB 18.6 MB/s eta 0:00:01\r\u001b[K     |███████████████████████         | 501 kB 18.6 MB/s eta 0:00:01\r\u001b[K     |███████████████████████▍        | 512 kB 18.6 MB/s eta 0:00:01\r\u001b[K     |███████████████████████▉        | 522 kB 18.6 MB/s eta 0:00:01\r\u001b[K     |████████████████████████▎       | 532 kB 18.6 MB/s eta 0:00:01\r\u001b[K     |████████████████████████▊       | 542 kB 18.6 MB/s eta 0:00:01\r\u001b[K     |█████████████████████████▎      | 552 kB 18.6 MB/s eta 0:00:01\r\u001b[K     |█████████████████████████▊      | 563 kB 18.6 MB/s eta 0:00:01\r\u001b[K     |██████████████████████████▏     | 573 kB 18.6 MB/s eta 0:00:01\r\u001b[K     |██████████████████████████▋     | 583 kB 18.6 MB/s eta 0:00:01\r\u001b[K     |███████████████████████████     | 593 kB 18.6 MB/s eta 0:00:01\r\u001b[K     |███████████████████████████▋    | 604 kB 18.6 MB/s eta 0:00:01\r\u001b[K     |████████████████████████████    | 614 kB 18.6 MB/s eta 0:00:01\r\u001b[K     |████████████████████████████▌   | 624 kB 18.6 MB/s eta 0:00:01\r\u001b[K     |█████████████████████████████   | 634 kB 18.6 MB/s eta 0:00:01\r\u001b[K     |█████████████████████████████▍  | 645 kB 18.6 MB/s eta 0:00:01\r\u001b[K     |██████████████████████████████  | 655 kB 18.6 MB/s eta 0:00:01\r\u001b[K     |██████████████████████████████▍ | 665 kB 18.6 MB/s eta 0:00:01\r\u001b[K     |██████████████████████████████▉ | 675 kB 18.6 MB/s eta 0:00:01\r\u001b[K     |███████████████████████████████▎| 686 kB 18.6 MB/s eta 0:00:01\r\u001b[K     |███████████████████████████████▊| 696 kB 18.6 MB/s eta 0:00:01\r\u001b[K     |████████████████████████████████| 701 kB 18.6 MB/s \r\n"
     ]
    },
    {
     "name": "stdout",
     "output_type": "stream",
     "text": [
      "\u001b[?25hInstalling collected packages: pyyaml\r\n"
     ]
    },
    {
     "name": "stdout",
     "output_type": "stream",
     "text": [
      "\u001b[31mERROR: pip's dependency resolver does not currently take into account all the packages that are installed. This behaviour is the source of the following dependency conflicts.\r\n",
      "roboflow 0.2.4 requires cycler==0.10.0, but you have cycler 0.11.0 which is incompatible.\u001b[0m\r\n"
     ]
    },
    {
     "name": "stdout",
     "output_type": "stream",
     "text": [
      "Successfully installed pyyaml-6.0\r\n"
     ]
    },
    {
     "name": "stdout",
     "output_type": "stream",
     "text": [
      "Note: you may need to restart the kernel to use updated packages.\n"
     ]
    }
   ],
   "source": [
    "pip install pyyaml"
   ]
  },
  {
   "cell_type": "code",
   "execution_count": 7,
   "metadata": {
    "collapsed": false,
    "scrolled": true
   },
   "outputs": [
    {
     "name": "stdout",
     "output_type": "stream",
     "text": [
      "Requirement already satisfied: roboflow in /projects/e3d2641f-202e-4d19-8d28-c5191fb7dcfc/.local/lib/python3.8/site-packages (0.2.4)\r\n"
     ]
    },
    {
     "name": "stdout",
     "output_type": "stream",
     "text": [
      "Requirement already satisfied: Pillow>=7.1.2 in /usr/local/lib/python3.8/dist-packages (from roboflow) (9.1.0)\r\n",
      "Requirement already satisfied: six in /usr/lib/python3/dist-packages (from roboflow) (1.14.0)\r\n",
      "Requirement already satisfied: chardet==4.0.0 in /projects/e3d2641f-202e-4d19-8d28-c5191fb7dcfc/.local/lib/python3.8/site-packages (from roboflow) (4.0.0)\r\n",
      "Requirement already satisfied: cycler==0.10.0 in /usr/lib/python3/dist-packages (from roboflow) (0.10.0)\r\n",
      "Requirement already satisfied: pyparsing==2.4.7 in /projects/e3d2641f-202e-4d19-8d28-c5191fb7dcfc/.local/lib/python3.8/site-packages (from roboflow) (2.4.7)\r\n",
      "Requirement already satisfied: tqdm>=4.41.0 in /projects/e3d2641f-202e-4d19-8d28-c5191fb7dcfc/.local/lib/python3.8/site-packages (from roboflow) (4.64.0)\r\n",
      "Requirement already satisfied: kiwisolver==1.3.1 in /projects/e3d2641f-202e-4d19-8d28-c5191fb7dcfc/.local/lib/python3.8/site-packages (from roboflow) (1.3.1)\r\n",
      "Requirement already satisfied: numpy>=1.18.5 in /usr/local/lib/python3.8/dist-packages (from roboflow) (1.22.3)\r\n",
      "Requirement already satisfied: python-dotenv in /projects/e3d2641f-202e-4d19-8d28-c5191fb7dcfc/.local/lib/python3.8/site-packages (from roboflow) (0.20.0)\r\n",
      "Requirement already satisfied: PyYAML>=5.3.1 in /usr/lib/python3/dist-packages (from roboflow) (5.3.1)\r\n",
      "Requirement already satisfied: urllib3==1.26.6 in /projects/e3d2641f-202e-4d19-8d28-c5191fb7dcfc/.local/lib/python3.8/site-packages (from roboflow) (1.26.6)\r\n",
      "Requirement already satisfied: opencv-python>=4.1.2 in /projects/e3d2641f-202e-4d19-8d28-c5191fb7dcfc/.local/lib/python3.8/site-packages (from roboflow) (4.6.0.66)\r\n"
     ]
    },
    {
     "name": "stdout",
     "output_type": "stream",
     "text": [
      "Requirement already satisfied: requests-toolbelt in /projects/e3d2641f-202e-4d19-8d28-c5191fb7dcfc/.local/lib/python3.8/site-packages (from roboflow) (0.9.1)\r\n",
      "Requirement already satisfied: requests in /usr/lib/python3/dist-packages (from roboflow) (2.22.0)\r\n",
      "Requirement already satisfied: python-dateutil in /usr/local/lib/python3.8/dist-packages (from roboflow) (2.8.2)\r\n",
      "Requirement already satisfied: idna==2.10 in /projects/e3d2641f-202e-4d19-8d28-c5191fb7dcfc/.local/lib/python3.8/site-packages (from roboflow) (2.10)\r\n",
      "Requirement already satisfied: certifi==2021.5.30 in /projects/e3d2641f-202e-4d19-8d28-c5191fb7dcfc/.local/lib/python3.8/site-packages (from roboflow) (2021.5.30)\r\n",
      "Requirement already satisfied: wget in /projects/e3d2641f-202e-4d19-8d28-c5191fb7dcfc/.local/lib/python3.8/site-packages (from roboflow) (3.2)\r\n",
      "Requirement already satisfied: matplotlib in /usr/lib/python3/dist-packages (from roboflow) (3.1.2)\r\n"
     ]
    },
    {
     "name": "stdout",
     "output_type": "stream",
     "text": [
      "\rloading Roboflow workspace...\n"
     ]
    },
    {
     "name": "stdout",
     "output_type": "stream",
     "text": [
      "\rloading Roboflow project...\n"
     ]
    },
    {
     "name": "stdout",
     "output_type": "stream",
     "text": [
      "\rDownloading Dataset Version Zip in Celebrity-3 to yolov5pytorch: 0% [0 / 31844188] bytes"
     ]
    },
    {
     "name": "stdout",
     "output_type": "stream",
     "text": [
      "\rDownloading Dataset Version Zip in Celebrity-3 to yolov5pytorch: 0% [8192 / 31844188] bytes"
     ]
    },
    {
     "name": "stdout",
     "output_type": "stream",
     "text": [
      "\rDownloading Dataset Version Zip in Celebrity-3 to yolov5pytorch: 0% [16384 / 31844188] bytes"
     ]
    },
    {
     "name": "stdout",
     "output_type": "stream",
     "text": [
      "\rDownloading Dataset Version Zip in Celebrity-3 to yolov5pytorch: 0% [24576 / 31844188] bytes"
     ]
    },
    {
     "name": "stdout",
     "output_type": "stream",
     "text": [
      "\rDownloading Dataset Version Zip in Celebrity-3 to yolov5pytorch: 0% [32768 / 31844188] bytes"
     ]
    },
    {
     "name": "stdout",
     "output_type": "stream",
     "text": [
      "\rDownloading Dataset Version Zip in Celebrity-3 to yolov5pytorch: 0% [40960 / 31844188] bytes"
     ]
    },
    {
     "name": "stdout",
     "output_type": "stream",
     "text": [
      "\rDownloading Dataset Version Zip in Celebrity-3 to yolov5pytorch: 0% [49152 / 31844188] bytes"
     ]
    },
    {
     "name": "stdout",
     "output_type": "stream",
     "text": [
      "\rDownloading Dataset Version Zip in Celebrity-3 to yolov5pytorch: 0% [57344 / 31844188] bytes"
     ]
    },
    {
     "name": "stdout",
     "output_type": "stream",
     "text": [
      "\rDownloading Dataset Version Zip in Celebrity-3 to yolov5pytorch: 0% [65536 / 31844188] bytes"
     ]
    },
    {
     "name": "stdout",
     "output_type": "stream",
     "text": [
      "\rDownloading Dataset Version Zip in Celebrity-3 to yolov5pytorch: 0% [73728 / 31844188] bytes"
     ]
    },
    {
     "name": "stdout",
     "output_type": "stream",
     "text": [
      "\rDownloading Dataset Version Zip in Celebrity-3 to yolov5pytorch: 0% [81920 / 31844188] bytes"
     ]
    },
    {
     "name": "stdout",
     "output_type": "stream",
     "text": [
      "\rDownloading Dataset Version Zip in Celebrity-3 to yolov5pytorch: 0% [90112 / 31844188] bytes"
     ]
    },
    {
     "name": "stdout",
     "output_type": "stream",
     "text": [
      "\rDownloading Dataset Version Zip in Celebrity-3 to yolov5pytorch: 0% [98304 / 31844188] bytes"
     ]
    },
    {
     "name": "stdout",
     "output_type": "stream",
     "text": [
      "\rDownloading Dataset Version Zip in Celebrity-3 to yolov5pytorch: 0% [106496 / 31844188] bytes"
     ]
    },
    {
     "name": "stdout",
     "output_type": "stream",
     "text": [
      "\rDownloading Dataset Version Zip in Celebrity-3 to yolov5pytorch: 0% [114688 / 31844188] bytes"
     ]
    },
    {
     "name": "stdout",
     "output_type": "stream",
     "text": [
      "\rDownloading Dataset Version Zip in Celebrity-3 to yolov5pytorch: 0% [122880 / 31844188] bytes"
     ]
    },
    {
     "name": "stdout",
     "output_type": "stream",
     "text": [
      "\rDownloading Dataset Version Zip in Celebrity-3 to yolov5pytorch: 0% [131072 / 31844188] bytes"
     ]
    },
    {
     "name": "stdout",
     "output_type": "stream",
     "text": [
      "\rDownloading Dataset Version Zip in Celebrity-3 to yolov5pytorch: 0% [139264 / 31844188] bytes"
     ]
    },
    {
     "name": "stdout",
     "output_type": "stream",
     "text": [
      "\rDownloading Dataset Version Zip in Celebrity-3 to yolov5pytorch: 0% [147456 / 31844188] bytes"
     ]
    },
    {
     "name": "stdout",
     "output_type": "stream",
     "text": [
      "\rDownloading Dataset Version Zip in Celebrity-3 to yolov5pytorch: 0% [155648 / 31844188] bytes"
     ]
    },
    {
     "name": "stdout",
     "output_type": "stream",
     "text": [
      "\rDownloading Dataset Version Zip in Celebrity-3 to yolov5pytorch: 0% [163840 / 31844188] bytes"
     ]
    },
    {
     "name": "stdout",
     "output_type": "stream",
     "text": [
      "\rDownloading Dataset Version Zip in Celebrity-3 to yolov5pytorch: 0% [172032 / 31844188] bytes"
     ]
    },
    {
     "name": "stdout",
     "output_type": "stream",
     "text": [
      "\rDownloading Dataset Version Zip in Celebrity-3 to yolov5pytorch: 0% [180224 / 31844188] bytes"
     ]
    },
    {
     "name": "stdout",
     "output_type": "stream",
     "text": [
      "\rDownloading Dataset Version Zip in Celebrity-3 to yolov5pytorch: 0% [188416 / 31844188] bytes"
     ]
    },
    {
     "name": "stdout",
     "output_type": "stream",
     "text": [
      "\rDownloading Dataset Version Zip in Celebrity-3 to yolov5pytorch: 0% [196608 / 31844188] bytes"
     ]
    },
    {
     "name": "stdout",
     "output_type": "stream",
     "text": [
      "\rDownloading Dataset Version Zip in Celebrity-3 to yolov5pytorch: 0% [204800 / 31844188] bytes"
     ]
    },
    {
     "name": "stdout",
     "output_type": "stream",
     "text": [
      "\rDownloading Dataset Version Zip in Celebrity-3 to yolov5pytorch: 0% [212992 / 31844188] bytes"
     ]
    },
    {
     "name": "stdout",
     "output_type": "stream",
     "text": [
      "\rDownloading Dataset Version Zip in Celebrity-3 to yolov5pytorch: 0% [221184 / 31844188] bytes"
     ]
    },
    {
     "name": "stdout",
     "output_type": "stream",
     "text": [
      "\rDownloading Dataset Version Zip in Celebrity-3 to yolov5pytorch: 0% [229376 / 31844188] bytes"
     ]
    },
    {
     "name": "stdout",
     "output_type": "stream",
     "text": [
      "\rDownloading Dataset Version Zip in Celebrity-3 to yolov5pytorch: 0% [237568 / 31844188] bytes"
     ]
    },
    {
     "name": "stdout",
     "output_type": "stream",
     "text": [
      "\rDownloading Dataset Version Zip in Celebrity-3 to yolov5pytorch: 0% [245760 / 31844188] bytes"
     ]
    },
    {
     "name": "stdout",
     "output_type": "stream",
     "text": [
      "\rDownloading Dataset Version Zip in Celebrity-3 to yolov5pytorch: 0% [253952 / 31844188] bytes"
     ]
    },
    {
     "name": "stdout",
     "output_type": "stream",
     "text": [
      "\rDownloading Dataset Version Zip in Celebrity-3 to yolov5pytorch: 0% [262144 / 31844188] bytes"
     ]
    },
    {
     "name": "stdout",
     "output_type": "stream",
     "text": [
      "\rDownloading Dataset Version Zip in Celebrity-3 to yolov5pytorch: 0% [270336 / 31844188] bytes"
     ]
    },
    {
     "name": "stdout",
     "output_type": "stream",
     "text": [
      "\rDownloading Dataset Version Zip in Celebrity-3 to yolov5pytorch: 0% [278528 / 31844188] bytes"
     ]
    },
    {
     "name": "stdout",
     "output_type": "stream",
     "text": [
      "\rDownloading Dataset Version Zip in Celebrity-3 to yolov5pytorch: 0% [286720 / 31844188] bytes"
     ]
    },
    {
     "name": "stdout",
     "output_type": "stream",
     "text": [
      "\rDownloading Dataset Version Zip in Celebrity-3 to yolov5pytorch: 0% [294912 / 31844188] bytes"
     ]
    },
    {
     "name": "stdout",
     "output_type": "stream",
     "text": [
      "\rDownloading Dataset Version Zip in Celebrity-3 to yolov5pytorch: 0% [303104 / 31844188] bytes"
     ]
    },
    {
     "name": "stdout",
     "output_type": "stream",
     "text": [
      "\rDownloading Dataset Version Zip in Celebrity-3 to yolov5pytorch: 0% [311296 / 31844188] bytes"
     ]
    },
    {
     "name": "stdout",
     "output_type": "stream",
     "text": [
      "\rDownloading Dataset Version Zip in Celebrity-3 to yolov5pytorch: 1% [319488 / 31844188] bytes"
     ]
    },
    {
     "name": "stdout",
     "output_type": "stream",
     "text": [
      "\rDownloading Dataset Version Zip in Celebrity-3 to yolov5pytorch: 1% [327680 / 31844188] bytes"
     ]
    },
    {
     "name": "stdout",
     "output_type": "stream",
     "text": [
      "\rDownloading Dataset Version Zip in Celebrity-3 to yolov5pytorch: 1% [335872 / 31844188] bytes"
     ]
    },
    {
     "name": "stdout",
     "output_type": "stream",
     "text": [
      "\rDownloading Dataset Version Zip in Celebrity-3 to yolov5pytorch: 1% [344064 / 31844188] bytes"
     ]
    },
    {
     "name": "stdout",
     "output_type": "stream",
     "text": [
      "\rDownloading Dataset Version Zip in Celebrity-3 to yolov5pytorch: 1% [352256 / 31844188] bytes"
     ]
    },
    {
     "name": "stdout",
     "output_type": "stream",
     "text": [
      "\rDownloading Dataset Version Zip in Celebrity-3 to yolov5pytorch: 1% [360448 / 31844188] bytes"
     ]
    },
    {
     "name": "stdout",
     "output_type": "stream",
     "text": [
      "\rDownloading Dataset Version Zip in Celebrity-3 to yolov5pytorch: 1% [368640 / 31844188] bytes"
     ]
    },
    {
     "name": "stdout",
     "output_type": "stream",
     "text": [
      "\rDownloading Dataset Version Zip in Celebrity-3 to yolov5pytorch: 1% [376832 / 31844188] bytes"
     ]
    },
    {
     "name": "stdout",
     "output_type": "stream",
     "text": [
      "\rDownloading Dataset Version Zip in Celebrity-3 to yolov5pytorch: 1% [385024 / 31844188] bytes"
     ]
    },
    {
     "name": "stdout",
     "output_type": "stream",
     "text": [
      "\rDownloading Dataset Version Zip in Celebrity-3 to yolov5pytorch: 1% [393216 / 31844188] bytes"
     ]
    },
    {
     "name": "stdout",
     "output_type": "stream",
     "text": [
      "\rDownloading Dataset Version Zip in Celebrity-3 to yolov5pytorch: 1% [401408 / 31844188] bytes"
     ]
    },
    {
     "name": "stdout",
     "output_type": "stream",
     "text": [
      "\rDownloading Dataset Version Zip in Celebrity-3 to yolov5pytorch: 1% [409600 / 31844188] bytes"
     ]
    },
    {
     "name": "stdout",
     "output_type": "stream",
     "text": [
      "\rDownloading Dataset Version Zip in Celebrity-3 to yolov5pytorch: 1% [417792 / 31844188] bytes"
     ]
    },
    {
     "name": "stdout",
     "output_type": "stream",
     "text": [
      "\rDownloading Dataset Version Zip in Celebrity-3 to yolov5pytorch: 1% [425984 / 31844188] bytes"
     ]
    },
    {
     "name": "stdout",
     "output_type": "stream",
     "text": [
      "\rDownloading Dataset Version Zip in Celebrity-3 to yolov5pytorch: 1% [434176 / 31844188] bytes"
     ]
    },
    {
     "name": "stdout",
     "output_type": "stream",
     "text": [
      "\rDownloading Dataset Version Zip in Celebrity-3 to yolov5pytorch: 1% [442368 / 31844188] bytes"
     ]
    },
    {
     "name": "stdout",
     "output_type": "stream",
     "text": [
      "\rDownloading Dataset Version Zip in Celebrity-3 to yolov5pytorch: 1% [450560 / 31844188] bytes"
     ]
    },
    {
     "name": "stdout",
     "output_type": "stream",
     "text": [
      "\rDownloading Dataset Version Zip in Celebrity-3 to yolov5pytorch: 1% [458752 / 31844188] bytes"
     ]
    },
    {
     "name": "stdout",
     "output_type": "stream",
     "text": [
      "\rDownloading Dataset Version Zip in Celebrity-3 to yolov5pytorch: 1% [466944 / 31844188] bytes"
     ]
    },
    {
     "name": "stdout",
     "output_type": "stream",
     "text": [
      "\rDownloading Dataset Version Zip in Celebrity-3 to yolov5pytorch: 1% [475136 / 31844188] bytes"
     ]
    },
    {
     "name": "stdout",
     "output_type": "stream",
     "text": [
      "\rDownloading Dataset Version Zip in Celebrity-3 to yolov5pytorch: 1% [483328 / 31844188] bytes"
     ]
    },
    {
     "name": "stdout",
     "output_type": "stream",
     "text": [
      "\rDownloading Dataset Version Zip in Celebrity-3 to yolov5pytorch: 1% [491520 / 31844188] bytes"
     ]
    },
    {
     "name": "stdout",
     "output_type": "stream",
     "text": [
      "\rDownloading Dataset Version Zip in Celebrity-3 to yolov5pytorch: 1% [499712 / 31844188] bytes"
     ]
    },
    {
     "name": "stdout",
     "output_type": "stream",
     "text": [
      "\rDownloading Dataset Version Zip in Celebrity-3 to yolov5pytorch: 1% [507904 / 31844188] bytes"
     ]
    },
    {
     "name": "stdout",
     "output_type": "stream",
     "text": [
      "\rDownloading Dataset Version Zip in Celebrity-3 to yolov5pytorch: 1% [516096 / 31844188] bytes"
     ]
    },
    {
     "name": "stdout",
     "output_type": "stream",
     "text": [
      "\rDownloading Dataset Version Zip in Celebrity-3 to yolov5pytorch: 1% [524288 / 31844188] bytes"
     ]
    },
    {
     "name": "stdout",
     "output_type": "stream",
     "text": [
      "\rDownloading Dataset Version Zip in Celebrity-3 to yolov5pytorch: 1% [532480 / 31844188] bytes"
     ]
    },
    {
     "name": "stdout",
     "output_type": "stream",
     "text": [
      "\rDownloading Dataset Version Zip in Celebrity-3 to yolov5pytorch: 1% [540672 / 31844188] bytes"
     ]
    },
    {
     "name": "stdout",
     "output_type": "stream",
     "text": [
      "\rDownloading Dataset Version Zip in Celebrity-3 to yolov5pytorch: 1% [548864 / 31844188] bytes"
     ]
    },
    {
     "name": "stdout",
     "output_type": "stream",
     "text": [
      "\rDownloading Dataset Version Zip in Celebrity-3 to yolov5pytorch: 1% [557056 / 31844188] bytes"
     ]
    },
    {
     "name": "stdout",
     "output_type": "stream",
     "text": [
      "\rDownloading Dataset Version Zip in Celebrity-3 to yolov5pytorch: 1% [565248 / 31844188] bytes"
     ]
    },
    {
     "name": "stdout",
     "output_type": "stream",
     "text": [
      "\rDownloading Dataset Version Zip in Celebrity-3 to yolov5pytorch: 1% [573440 / 31844188] bytes"
     ]
    },
    {
     "name": "stdout",
     "output_type": "stream",
     "text": [
      "\rDownloading Dataset Version Zip in Celebrity-3 to yolov5pytorch: 1% [581632 / 31844188] bytes"
     ]
    },
    {
     "name": "stdout",
     "output_type": "stream",
     "text": [
      "\rDownloading Dataset Version Zip in Celebrity-3 to yolov5pytorch: 1% [589824 / 31844188] bytes"
     ]
    },
    {
     "name": "stdout",
     "output_type": "stream",
     "text": [
      "\rDownloading Dataset Version Zip in Celebrity-3 to yolov5pytorch: 1% [598016 / 31844188] bytes"
     ]
    },
    {
     "name": "stdout",
     "output_type": "stream",
     "text": [
      "\rDownloading Dataset Version Zip in Celebrity-3 to yolov5pytorch: 1% [606208 / 31844188] bytes"
     ]
    },
    {
     "name": "stdout",
     "output_type": "stream",
     "text": [
      "\rDownloading Dataset Version Zip in Celebrity-3 to yolov5pytorch: 1% [614400 / 31844188] bytes"
     ]
    },
    {
     "name": "stdout",
     "output_type": "stream",
     "text": [
      "\rDownloading Dataset Version Zip in Celebrity-3 to yolov5pytorch: 1% [622592 / 31844188] bytes"
     ]
    },
    {
     "name": "stdout",
     "output_type": "stream",
     "text": [
      "\rDownloading Dataset Version Zip in Celebrity-3 to yolov5pytorch: 1% [630784 / 31844188] bytes"
     ]
    },
    {
     "name": "stdout",
     "output_type": "stream",
     "text": [
      "\rDownloading Dataset Version Zip in Celebrity-3 to yolov5pytorch: 2% [638976 / 31844188] bytes"
     ]
    },
    {
     "name": "stdout",
     "output_type": "stream",
     "text": [
      "\rDownloading Dataset Version Zip in Celebrity-3 to yolov5pytorch: 2% [647168 / 31844188] bytes"
     ]
    },
    {
     "name": "stdout",
     "output_type": "stream",
     "text": [
      "\rDownloading Dataset Version Zip in Celebrity-3 to yolov5pytorch: 2% [655360 / 31844188] bytes"
     ]
    },
    {
     "name": "stdout",
     "output_type": "stream",
     "text": [
      "\rDownloading Dataset Version Zip in Celebrity-3 to yolov5pytorch: 2% [663552 / 31844188] bytes"
     ]
    },
    {
     "name": "stdout",
     "output_type": "stream",
     "text": [
      "\rDownloading Dataset Version Zip in Celebrity-3 to yolov5pytorch: 2% [671744 / 31844188] bytes"
     ]
    },
    {
     "name": "stdout",
     "output_type": "stream",
     "text": [
      "\rDownloading Dataset Version Zip in Celebrity-3 to yolov5pytorch: 2% [679936 / 31844188] bytes"
     ]
    },
    {
     "name": "stdout",
     "output_type": "stream",
     "text": [
      "\rDownloading Dataset Version Zip in Celebrity-3 to yolov5pytorch: 2% [688128 / 31844188] bytes"
     ]
    },
    {
     "name": "stdout",
     "output_type": "stream",
     "text": [
      "\rDownloading Dataset Version Zip in Celebrity-3 to yolov5pytorch: 2% [696320 / 31844188] bytes"
     ]
    },
    {
     "name": "stdout",
     "output_type": "stream",
     "text": [
      "\rDownloading Dataset Version Zip in Celebrity-3 to yolov5pytorch: 2% [704512 / 31844188] bytes"
     ]
    },
    {
     "name": "stdout",
     "output_type": "stream",
     "text": [
      "\rDownloading Dataset Version Zip in Celebrity-3 to yolov5pytorch: 2% [712704 / 31844188] bytes"
     ]
    },
    {
     "name": "stdout",
     "output_type": "stream",
     "text": [
      "\rDownloading Dataset Version Zip in Celebrity-3 to yolov5pytorch: 2% [720896 / 31844188] bytes"
     ]
    },
    {
     "name": "stdout",
     "output_type": "stream",
     "text": [
      "\rDownloading Dataset Version Zip in Celebrity-3 to yolov5pytorch: 2% [729088 / 31844188] bytes"
     ]
    },
    {
     "name": "stdout",
     "output_type": "stream",
     "text": [
      "\rDownloading Dataset Version Zip in Celebrity-3 to yolov5pytorch: 2% [737280 / 31844188] bytes"
     ]
    },
    {
     "name": "stdout",
     "output_type": "stream",
     "text": [
      "\rDownloading Dataset Version Zip in Celebrity-3 to yolov5pytorch: 2% [745472 / 31844188] bytes"
     ]
    },
    {
     "name": "stdout",
     "output_type": "stream",
     "text": [
      "\rDownloading Dataset Version Zip in Celebrity-3 to yolov5pytorch: 2% [753664 / 31844188] bytes"
     ]
    },
    {
     "name": "stdout",
     "output_type": "stream",
     "text": [
      "\rDownloading Dataset Version Zip in Celebrity-3 to yolov5pytorch: 2% [761856 / 31844188] bytes"
     ]
    },
    {
     "name": "stdout",
     "output_type": "stream",
     "text": [
      "\rDownloading Dataset Version Zip in Celebrity-3 to yolov5pytorch: 2% [770048 / 31844188] bytes"
     ]
    },
    {
     "name": "stdout",
     "output_type": "stream",
     "text": [
      "\rDownloading Dataset Version Zip in Celebrity-3 to yolov5pytorch: 2% [778240 / 31844188] bytes"
     ]
    },
    {
     "name": "stdout",
     "output_type": "stream",
     "text": [
      "\rDownloading Dataset Version Zip in Celebrity-3 to yolov5pytorch: 2% [786432 / 31844188] bytes"
     ]
    },
    {
     "name": "stdout",
     "output_type": "stream",
     "text": [
      "\rDownloading Dataset Version Zip in Celebrity-3 to yolov5pytorch: 2% [794624 / 31844188] bytes"
     ]
    },
    {
     "name": "stdout",
     "output_type": "stream",
     "text": [
      "\rDownloading Dataset Version Zip in Celebrity-3 to yolov5pytorch: 2% [802816 / 31844188] bytes"
     ]
    },
    {
     "name": "stdout",
     "output_type": "stream",
     "text": [
      "\rDownloading Dataset Version Zip in Celebrity-3 to yolov5pytorch: 2% [811008 / 31844188] bytes"
     ]
    },
    {
     "name": "stdout",
     "output_type": "stream",
     "text": [
      "\rDownloading Dataset Version Zip in Celebrity-3 to yolov5pytorch: 2% [819200 / 31844188] bytes"
     ]
    },
    {
     "name": "stdout",
     "output_type": "stream",
     "text": [
      "\rDownloading Dataset Version Zip in Celebrity-3 to yolov5pytorch: 2% [827392 / 31844188] bytes"
     ]
    },
    {
     "name": "stdout",
     "output_type": "stream",
     "text": [
      "\rDownloading Dataset Version Zip in Celebrity-3 to yolov5pytorch: 2% [835584 / 31844188] bytes"
     ]
    },
    {
     "name": "stdout",
     "output_type": "stream",
     "text": [
      "\rDownloading Dataset Version Zip in Celebrity-3 to yolov5pytorch: 2% [843776 / 31844188] bytes"
     ]
    },
    {
     "name": "stdout",
     "output_type": "stream",
     "text": [
      "\rDownloading Dataset Version Zip in Celebrity-3 to yolov5pytorch: 2% [851968 / 31844188] bytes"
     ]
    },
    {
     "name": "stdout",
     "output_type": "stream",
     "text": [
      "\rDownloading Dataset Version Zip in Celebrity-3 to yolov5pytorch: 2% [860160 / 31844188] bytes"
     ]
    },
    {
     "name": "stdout",
     "output_type": "stream",
     "text": [
      "\rDownloading Dataset Version Zip in Celebrity-3 to yolov5pytorch: 2% [868352 / 31844188] bytes"
     ]
    },
    {
     "name": "stdout",
     "output_type": "stream",
     "text": [
      "\rDownloading Dataset Version Zip in Celebrity-3 to yolov5pytorch: 2% [876544 / 31844188] bytes"
     ]
    },
    {
     "name": "stdout",
     "output_type": "stream",
     "text": [
      "\rDownloading Dataset Version Zip in Celebrity-3 to yolov5pytorch: 2% [884736 / 31844188] bytes"
     ]
    },
    {
     "name": "stdout",
     "output_type": "stream",
     "text": [
      "\rDownloading Dataset Version Zip in Celebrity-3 to yolov5pytorch: 2% [892928 / 31844188] bytes"
     ]
    },
    {
     "name": "stdout",
     "output_type": "stream",
     "text": [
      "\rDownloading Dataset Version Zip in Celebrity-3 to yolov5pytorch: 2% [901120 / 31844188] bytes"
     ]
    },
    {
     "name": "stdout",
     "output_type": "stream",
     "text": [
      "\rDownloading Dataset Version Zip in Celebrity-3 to yolov5pytorch: 2% [909312 / 31844188] bytes"
     ]
    },
    {
     "name": "stdout",
     "output_type": "stream",
     "text": [
      "\rDownloading Dataset Version Zip in Celebrity-3 to yolov5pytorch: 2% [917504 / 31844188] bytes"
     ]
    },
    {
     "name": "stdout",
     "output_type": "stream",
     "text": [
      "\rDownloading Dataset Version Zip in Celebrity-3 to yolov5pytorch: 2% [925696 / 31844188] bytes"
     ]
    },
    {
     "name": "stdout",
     "output_type": "stream",
     "text": [
      "\rDownloading Dataset Version Zip in Celebrity-3 to yolov5pytorch: 2% [933888 / 31844188] bytes"
     ]
    },
    {
     "name": "stdout",
     "output_type": "stream",
     "text": [
      "\rDownloading Dataset Version Zip in Celebrity-3 to yolov5pytorch: 2% [942080 / 31844188] bytes"
     ]
    },
    {
     "name": "stdout",
     "output_type": "stream",
     "text": [
      "\rDownloading Dataset Version Zip in Celebrity-3 to yolov5pytorch: 2% [950272 / 31844188] bytes"
     ]
    },
    {
     "name": "stdout",
     "output_type": "stream",
     "text": [
      "\rDownloading Dataset Version Zip in Celebrity-3 to yolov5pytorch: 3% [958464 / 31844188] bytes"
     ]
    },
    {
     "name": "stdout",
     "output_type": "stream",
     "text": [
      "\rDownloading Dataset Version Zip in Celebrity-3 to yolov5pytorch: 3% [966656 / 31844188] bytes"
     ]
    },
    {
     "name": "stdout",
     "output_type": "stream",
     "text": [
      "\rDownloading Dataset Version Zip in Celebrity-3 to yolov5pytorch: 3% [974848 / 31844188] bytes"
     ]
    },
    {
     "name": "stdout",
     "output_type": "stream",
     "text": [
      "\rDownloading Dataset Version Zip in Celebrity-3 to yolov5pytorch: 3% [983040 / 31844188] bytes"
     ]
    },
    {
     "name": "stdout",
     "output_type": "stream",
     "text": [
      "\rDownloading Dataset Version Zip in Celebrity-3 to yolov5pytorch: 3% [991232 / 31844188] bytes"
     ]
    },
    {
     "name": "stdout",
     "output_type": "stream",
     "text": [
      "\rDownloading Dataset Version Zip in Celebrity-3 to yolov5pytorch: 3% [999424 / 31844188] bytes"
     ]
    },
    {
     "name": "stdout",
     "output_type": "stream",
     "text": [
      "\rDownloading Dataset Version Zip in Celebrity-3 to yolov5pytorch: 3% [1007616 / 31844188] bytes"
     ]
    },
    {
     "name": "stdout",
     "output_type": "stream",
     "text": [
      "\rDownloading Dataset Version Zip in Celebrity-3 to yolov5pytorch: 3% [1015808 / 31844188] bytes"
     ]
    },
    {
     "name": "stdout",
     "output_type": "stream",
     "text": [
      "\rDownloading Dataset Version Zip in Celebrity-3 to yolov5pytorch: 3% [1024000 / 31844188] bytes"
     ]
    },
    {
     "name": "stdout",
     "output_type": "stream",
     "text": [
      "\rDownloading Dataset Version Zip in Celebrity-3 to yolov5pytorch: 3% [1032192 / 31844188] bytes"
     ]
    },
    {
     "name": "stdout",
     "output_type": "stream",
     "text": [
      "\rDownloading Dataset Version Zip in Celebrity-3 to yolov5pytorch: 3% [1040384 / 31844188] bytes"
     ]
    },
    {
     "name": "stdout",
     "output_type": "stream",
     "text": [
      "\rDownloading Dataset Version Zip in Celebrity-3 to yolov5pytorch: 3% [1048576 / 31844188] bytes"
     ]
    },
    {
     "name": "stdout",
     "output_type": "stream",
     "text": [
      "\rDownloading Dataset Version Zip in Celebrity-3 to yolov5pytorch: 3% [1056768 / 31844188] bytes"
     ]
    },
    {
     "name": "stdout",
     "output_type": "stream",
     "text": [
      "\rDownloading Dataset Version Zip in Celebrity-3 to yolov5pytorch: 3% [1064960 / 31844188] bytes"
     ]
    },
    {
     "name": "stdout",
     "output_type": "stream",
     "text": [
      "\rDownloading Dataset Version Zip in Celebrity-3 to yolov5pytorch: 3% [1073152 / 31844188] bytes"
     ]
    },
    {
     "name": "stdout",
     "output_type": "stream",
     "text": [
      "\rDownloading Dataset Version Zip in Celebrity-3 to yolov5pytorch: 3% [1081344 / 31844188] bytes"
     ]
    },
    {
     "name": "stdout",
     "output_type": "stream",
     "text": [
      "\rDownloading Dataset Version Zip in Celebrity-3 to yolov5pytorch: 3% [1089536 / 31844188] bytes"
     ]
    },
    {
     "name": "stdout",
     "output_type": "stream",
     "text": [
      "\rDownloading Dataset Version Zip in Celebrity-3 to yolov5pytorch: 3% [1097728 / 31844188] bytes"
     ]
    },
    {
     "name": "stdout",
     "output_type": "stream",
     "text": [
      "\rDownloading Dataset Version Zip in Celebrity-3 to yolov5pytorch: 3% [1105920 / 31844188] bytes"
     ]
    },
    {
     "name": "stdout",
     "output_type": "stream",
     "text": [
      "\rDownloading Dataset Version Zip in Celebrity-3 to yolov5pytorch: 3% [1114112 / 31844188] bytes"
     ]
    },
    {
     "name": "stdout",
     "output_type": "stream",
     "text": [
      "\rDownloading Dataset Version Zip in Celebrity-3 to yolov5pytorch: 3% [1122304 / 31844188] bytes"
     ]
    },
    {
     "name": "stdout",
     "output_type": "stream",
     "text": [
      "\rDownloading Dataset Version Zip in Celebrity-3 to yolov5pytorch: 3% [1130496 / 31844188] bytes"
     ]
    },
    {
     "name": "stdout",
     "output_type": "stream",
     "text": [
      "\rDownloading Dataset Version Zip in Celebrity-3 to yolov5pytorch: 3% [1138688 / 31844188] bytes"
     ]
    },
    {
     "name": "stdout",
     "output_type": "stream",
     "text": [
      "\rDownloading Dataset Version Zip in Celebrity-3 to yolov5pytorch: 3% [1146880 / 31844188] bytes"
     ]
    },
    {
     "name": "stdout",
     "output_type": "stream",
     "text": [
      "\rDownloading Dataset Version Zip in Celebrity-3 to yolov5pytorch: 3% [1155072 / 31844188] bytes"
     ]
    },
    {
     "name": "stdout",
     "output_type": "stream",
     "text": [
      "\rDownloading Dataset Version Zip in Celebrity-3 to yolov5pytorch: 3% [1163264 / 31844188] bytes"
     ]
    },
    {
     "name": "stdout",
     "output_type": "stream",
     "text": [
      "\rDownloading Dataset Version Zip in Celebrity-3 to yolov5pytorch: 3% [1171456 / 31844188] bytes"
     ]
    },
    {
     "name": "stdout",
     "output_type": "stream",
     "text": [
      "\rDownloading Dataset Version Zip in Celebrity-3 to yolov5pytorch: 3% [1179648 / 31844188] bytes"
     ]
    },
    {
     "name": "stdout",
     "output_type": "stream",
     "text": [
      "\rDownloading Dataset Version Zip in Celebrity-3 to yolov5pytorch: 3% [1187840 / 31844188] bytes"
     ]
    },
    {
     "name": "stdout",
     "output_type": "stream",
     "text": [
      "\rDownloading Dataset Version Zip in Celebrity-3 to yolov5pytorch: 3% [1196032 / 31844188] bytes"
     ]
    },
    {
     "name": "stdout",
     "output_type": "stream",
     "text": [
      "\rDownloading Dataset Version Zip in Celebrity-3 to yolov5pytorch: 3% [1204224 / 31844188] bytes"
     ]
    },
    {
     "name": "stdout",
     "output_type": "stream",
     "text": [
      "\rDownloading Dataset Version Zip in Celebrity-3 to yolov5pytorch: 3% [1212416 / 31844188] bytes"
     ]
    },
    {
     "name": "stdout",
     "output_type": "stream",
     "text": [
      "\rDownloading Dataset Version Zip in Celebrity-3 to yolov5pytorch: 3% [1220608 / 31844188] bytes"
     ]
    },
    {
     "name": "stdout",
     "output_type": "stream",
     "text": [
      "\rDownloading Dataset Version Zip in Celebrity-3 to yolov5pytorch: 3% [1228800 / 31844188] bytes"
     ]
    },
    {
     "name": "stdout",
     "output_type": "stream",
     "text": [
      "\rDownloading Dataset Version Zip in Celebrity-3 to yolov5pytorch: 3% [1236992 / 31844188] bytes"
     ]
    },
    {
     "name": "stdout",
     "output_type": "stream",
     "text": [
      "\rDownloading Dataset Version Zip in Celebrity-3 to yolov5pytorch: 3% [1245184 / 31844188] bytes"
     ]
    },
    {
     "name": "stdout",
     "output_type": "stream",
     "text": [
      "\rDownloading Dataset Version Zip in Celebrity-3 to yolov5pytorch: 3% [1253376 / 31844188] bytes"
     ]
    },
    {
     "name": "stdout",
     "output_type": "stream",
     "text": [
      "\rDownloading Dataset Version Zip in Celebrity-3 to yolov5pytorch: 3% [1261568 / 31844188] bytes"
     ]
    },
    {
     "name": "stdout",
     "output_type": "stream",
     "text": [
      "\rDownloading Dataset Version Zip in Celebrity-3 to yolov5pytorch: 3% [1269760 / 31844188] bytes"
     ]
    },
    {
     "name": "stdout",
     "output_type": "stream",
     "text": [
      "\rDownloading Dataset Version Zip in Celebrity-3 to yolov5pytorch: 4% [1277952 / 31844188] bytes"
     ]
    },
    {
     "name": "stdout",
     "output_type": "stream",
     "text": [
      "\rDownloading Dataset Version Zip in Celebrity-3 to yolov5pytorch: 4% [1286144 / 31844188] bytes"
     ]
    },
    {
     "name": "stdout",
     "output_type": "stream",
     "text": [
      "\rDownloading Dataset Version Zip in Celebrity-3 to yolov5pytorch: 4% [1294336 / 31844188] bytes"
     ]
    },
    {
     "name": "stdout",
     "output_type": "stream",
     "text": [
      "\rDownloading Dataset Version Zip in Celebrity-3 to yolov5pytorch: 4% [1302528 / 31844188] bytes"
     ]
    },
    {
     "name": "stdout",
     "output_type": "stream",
     "text": [
      "\rDownloading Dataset Version Zip in Celebrity-3 to yolov5pytorch: 4% [1310720 / 31844188] bytes"
     ]
    },
    {
     "name": "stdout",
     "output_type": "stream",
     "text": [
      "\rDownloading Dataset Version Zip in Celebrity-3 to yolov5pytorch: 4% [1318912 / 31844188] bytes"
     ]
    },
    {
     "name": "stdout",
     "output_type": "stream",
     "text": [
      "\rDownloading Dataset Version Zip in Celebrity-3 to yolov5pytorch: 4% [1327104 / 31844188] bytes"
     ]
    },
    {
     "name": "stdout",
     "output_type": "stream",
     "text": [
      "\rDownloading Dataset Version Zip in Celebrity-3 to yolov5pytorch: 4% [1335296 / 31844188] bytes"
     ]
    },
    {
     "name": "stdout",
     "output_type": "stream",
     "text": [
      "\rDownloading Dataset Version Zip in Celebrity-3 to yolov5pytorch: 4% [1343488 / 31844188] bytes"
     ]
    },
    {
     "name": "stdout",
     "output_type": "stream",
     "text": [
      "\rDownloading Dataset Version Zip in Celebrity-3 to yolov5pytorch: 4% [1351680 / 31844188] bytes"
     ]
    },
    {
     "name": "stdout",
     "output_type": "stream",
     "text": [
      "\rDownloading Dataset Version Zip in Celebrity-3 to yolov5pytorch: 4% [1359872 / 31844188] bytes"
     ]
    },
    {
     "name": "stdout",
     "output_type": "stream",
     "text": [
      "\rDownloading Dataset Version Zip in Celebrity-3 to yolov5pytorch: 4% [1368064 / 31844188] bytes"
     ]
    },
    {
     "name": "stdout",
     "output_type": "stream",
     "text": [
      "\rDownloading Dataset Version Zip in Celebrity-3 to yolov5pytorch: 4% [1376256 / 31844188] bytes"
     ]
    },
    {
     "name": "stdout",
     "output_type": "stream",
     "text": [
      "\rDownloading Dataset Version Zip in Celebrity-3 to yolov5pytorch: 4% [1384448 / 31844188] bytes"
     ]
    },
    {
     "name": "stdout",
     "output_type": "stream",
     "text": [
      "\rDownloading Dataset Version Zip in Celebrity-3 to yolov5pytorch: 4% [1392640 / 31844188] bytes"
     ]
    },
    {
     "name": "stdout",
     "output_type": "stream",
     "text": [
      "\rDownloading Dataset Version Zip in Celebrity-3 to yolov5pytorch: 4% [1400832 / 31844188] bytes"
     ]
    },
    {
     "name": "stdout",
     "output_type": "stream",
     "text": [
      "\rDownloading Dataset Version Zip in Celebrity-3 to yolov5pytorch: 4% [1409024 / 31844188] bytes"
     ]
    },
    {
     "name": "stdout",
     "output_type": "stream",
     "text": [
      "\rDownloading Dataset Version Zip in Celebrity-3 to yolov5pytorch: 4% [1417216 / 31844188] bytes"
     ]
    },
    {
     "name": "stdout",
     "output_type": "stream",
     "text": [
      "\rDownloading Dataset Version Zip in Celebrity-3 to yolov5pytorch: 4% [1425408 / 31844188] bytes"
     ]
    },
    {
     "name": "stdout",
     "output_type": "stream",
     "text": [
      "\rDownloading Dataset Version Zip in Celebrity-3 to yolov5pytorch: 4% [1433600 / 31844188] bytes"
     ]
    },
    {
     "name": "stdout",
     "output_type": "stream",
     "text": [
      "\rDownloading Dataset Version Zip in Celebrity-3 to yolov5pytorch: 4% [1441792 / 31844188] bytes"
     ]
    },
    {
     "name": "stdout",
     "output_type": "stream",
     "text": [
      "\rDownloading Dataset Version Zip in Celebrity-3 to yolov5pytorch: 4% [1449984 / 31844188] bytes"
     ]
    },
    {
     "name": "stdout",
     "output_type": "stream",
     "text": [
      "\rDownloading Dataset Version Zip in Celebrity-3 to yolov5pytorch: 4% [1458176 / 31844188] bytes"
     ]
    },
    {
     "name": "stdout",
     "output_type": "stream",
     "text": [
      "\rDownloading Dataset Version Zip in Celebrity-3 to yolov5pytorch: 4% [1466368 / 31844188] bytes"
     ]
    },
    {
     "name": "stdout",
     "output_type": "stream",
     "text": [
      "\rDownloading Dataset Version Zip in Celebrity-3 to yolov5pytorch: 4% [1474560 / 31844188] bytes"
     ]
    },
    {
     "name": "stdout",
     "output_type": "stream",
     "text": [
      "\rDownloading Dataset Version Zip in Celebrity-3 to yolov5pytorch: 4% [1482752 / 31844188] bytes"
     ]
    },
    {
     "name": "stdout",
     "output_type": "stream",
     "text": [
      "\rDownloading Dataset Version Zip in Celebrity-3 to yolov5pytorch: 4% [1490944 / 31844188] bytes"
     ]
    },
    {
     "name": "stdout",
     "output_type": "stream",
     "text": [
      "\rDownloading Dataset Version Zip in Celebrity-3 to yolov5pytorch: 4% [1499136 / 31844188] bytes"
     ]
    },
    {
     "name": "stdout",
     "output_type": "stream",
     "text": [
      "\rDownloading Dataset Version Zip in Celebrity-3 to yolov5pytorch: 4% [1507328 / 31844188] bytes"
     ]
    },
    {
     "name": "stdout",
     "output_type": "stream",
     "text": [
      "\rDownloading Dataset Version Zip in Celebrity-3 to yolov5pytorch: 4% [1515520 / 31844188] bytes"
     ]
    },
    {
     "name": "stdout",
     "output_type": "stream",
     "text": [
      "\rDownloading Dataset Version Zip in Celebrity-3 to yolov5pytorch: 4% [1523712 / 31844188] bytes"
     ]
    },
    {
     "name": "stdout",
     "output_type": "stream",
     "text": [
      "\rDownloading Dataset Version Zip in Celebrity-3 to yolov5pytorch: 4% [1531904 / 31844188] bytes"
     ]
    },
    {
     "name": "stdout",
     "output_type": "stream",
     "text": [
      "\rDownloading Dataset Version Zip in Celebrity-3 to yolov5pytorch: 4% [1540096 / 31844188] bytes"
     ]
    },
    {
     "name": "stdout",
     "output_type": "stream",
     "text": [
      "\rDownloading Dataset Version Zip in Celebrity-3 to yolov5pytorch: 4% [1548288 / 31844188] bytes"
     ]
    },
    {
     "name": "stdout",
     "output_type": "stream",
     "text": [
      "\rDownloading Dataset Version Zip in Celebrity-3 to yolov5pytorch: 4% [1556480 / 31844188] bytes"
     ]
    },
    {
     "name": "stdout",
     "output_type": "stream",
     "text": [
      "\rDownloading Dataset Version Zip in Celebrity-3 to yolov5pytorch: 4% [1564672 / 31844188] bytes"
     ]
    },
    {
     "name": "stdout",
     "output_type": "stream",
     "text": [
      "\rDownloading Dataset Version Zip in Celebrity-3 to yolov5pytorch: 4% [1572864 / 31844188] bytes"
     ]
    },
    {
     "name": "stdout",
     "output_type": "stream",
     "text": [
      "\rDownloading Dataset Version Zip in Celebrity-3 to yolov5pytorch: 4% [1581056 / 31844188] bytes"
     ]
    },
    {
     "name": "stdout",
     "output_type": "stream",
     "text": [
      "\rDownloading Dataset Version Zip in Celebrity-3 to yolov5pytorch: 4% [1589248 / 31844188] bytes"
     ]
    },
    {
     "name": "stdout",
     "output_type": "stream",
     "text": [
      "\rDownloading Dataset Version Zip in Celebrity-3 to yolov5pytorch: 5% [1597440 / 31844188] bytes"
     ]
    },
    {
     "name": "stdout",
     "output_type": "stream",
     "text": [
      "\rDownloading Dataset Version Zip in Celebrity-3 to yolov5pytorch: 5% [1605632 / 31844188] bytes"
     ]
    },
    {
     "name": "stdout",
     "output_type": "stream",
     "text": [
      "\rDownloading Dataset Version Zip in Celebrity-3 to yolov5pytorch: 5% [1613824 / 31844188] bytes"
     ]
    },
    {
     "name": "stdout",
     "output_type": "stream",
     "text": [
      "\rDownloading Dataset Version Zip in Celebrity-3 to yolov5pytorch: 5% [1622016 / 31844188] bytes"
     ]
    },
    {
     "name": "stdout",
     "output_type": "stream",
     "text": [
      "\rDownloading Dataset Version Zip in Celebrity-3 to yolov5pytorch: 5% [1630208 / 31844188] bytes"
     ]
    },
    {
     "name": "stdout",
     "output_type": "stream",
     "text": [
      "\rDownloading Dataset Version Zip in Celebrity-3 to yolov5pytorch: 5% [1638400 / 31844188] bytes"
     ]
    },
    {
     "name": "stdout",
     "output_type": "stream",
     "text": [
      "\rDownloading Dataset Version Zip in Celebrity-3 to yolov5pytorch: 5% [1646592 / 31844188] bytes"
     ]
    },
    {
     "name": "stdout",
     "output_type": "stream",
     "text": [
      "\rDownloading Dataset Version Zip in Celebrity-3 to yolov5pytorch: 5% [1654784 / 31844188] bytes"
     ]
    },
    {
     "name": "stdout",
     "output_type": "stream",
     "text": [
      "\rDownloading Dataset Version Zip in Celebrity-3 to yolov5pytorch: 5% [1662976 / 31844188] bytes"
     ]
    },
    {
     "name": "stdout",
     "output_type": "stream",
     "text": [
      "\rDownloading Dataset Version Zip in Celebrity-3 to yolov5pytorch: 5% [1671168 / 31844188] bytes"
     ]
    },
    {
     "name": "stdout",
     "output_type": "stream",
     "text": [
      "\rDownloading Dataset Version Zip in Celebrity-3 to yolov5pytorch: 5% [1679360 / 31844188] bytes"
     ]
    },
    {
     "name": "stdout",
     "output_type": "stream",
     "text": [
      "\rDownloading Dataset Version Zip in Celebrity-3 to yolov5pytorch: 5% [1687552 / 31844188] bytes"
     ]
    },
    {
     "name": "stdout",
     "output_type": "stream",
     "text": [
      "\rDownloading Dataset Version Zip in Celebrity-3 to yolov5pytorch: 5% [1695744 / 31844188] bytes"
     ]
    },
    {
     "name": "stdout",
     "output_type": "stream",
     "text": [
      "\rDownloading Dataset Version Zip in Celebrity-3 to yolov5pytorch: 5% [1703936 / 31844188] bytes"
     ]
    },
    {
     "name": "stdout",
     "output_type": "stream",
     "text": [
      "\rDownloading Dataset Version Zip in Celebrity-3 to yolov5pytorch: 5% [1712128 / 31844188] bytes"
     ]
    },
    {
     "name": "stdout",
     "output_type": "stream",
     "text": [
      "\rDownloading Dataset Version Zip in Celebrity-3 to yolov5pytorch: 5% [1720320 / 31844188] bytes"
     ]
    },
    {
     "name": "stdout",
     "output_type": "stream",
     "text": [
      "\rDownloading Dataset Version Zip in Celebrity-3 to yolov5pytorch: 5% [1728512 / 31844188] bytes"
     ]
    },
    {
     "name": "stdout",
     "output_type": "stream",
     "text": [
      "\rDownloading Dataset Version Zip in Celebrity-3 to yolov5pytorch: 5% [1736704 / 31844188] bytes"
     ]
    },
    {
     "name": "stdout",
     "output_type": "stream",
     "text": [
      "\rDownloading Dataset Version Zip in Celebrity-3 to yolov5pytorch: 5% [1744896 / 31844188] bytes"
     ]
    },
    {
     "name": "stdout",
     "output_type": "stream",
     "text": [
      "\rDownloading Dataset Version Zip in Celebrity-3 to yolov5pytorch: 5% [1753088 / 31844188] bytes"
     ]
    },
    {
     "name": "stdout",
     "output_type": "stream",
     "text": [
      "\rDownloading Dataset Version Zip in Celebrity-3 to yolov5pytorch: 5% [1761280 / 31844188] bytes"
     ]
    },
    {
     "name": "stdout",
     "output_type": "stream",
     "text": [
      "\rDownloading Dataset Version Zip in Celebrity-3 to yolov5pytorch: 5% [1769472 / 31844188] bytes"
     ]
    },
    {
     "name": "stdout",
     "output_type": "stream",
     "text": [
      "\rDownloading Dataset Version Zip in Celebrity-3 to yolov5pytorch: 5% [1777664 / 31844188] bytes"
     ]
    },
    {
     "name": "stdout",
     "output_type": "stream",
     "text": [
      "\rDownloading Dataset Version Zip in Celebrity-3 to yolov5pytorch: 5% [1785856 / 31844188] bytes"
     ]
    },
    {
     "name": "stdout",
     "output_type": "stream",
     "text": [
      "\rDownloading Dataset Version Zip in Celebrity-3 to yolov5pytorch: 5% [1794048 / 31844188] bytes"
     ]
    },
    {
     "name": "stdout",
     "output_type": "stream",
     "text": [
      "\rDownloading Dataset Version Zip in Celebrity-3 to yolov5pytorch: 5% [1802240 / 31844188] bytes"
     ]
    },
    {
     "name": "stdout",
     "output_type": "stream",
     "text": [
      "\rDownloading Dataset Version Zip in Celebrity-3 to yolov5pytorch: 5% [1810432 / 31844188] bytes"
     ]
    },
    {
     "name": "stdout",
     "output_type": "stream",
     "text": [
      "\rDownloading Dataset Version Zip in Celebrity-3 to yolov5pytorch: 5% [1818624 / 31844188] bytes"
     ]
    },
    {
     "name": "stdout",
     "output_type": "stream",
     "text": [
      "\rDownloading Dataset Version Zip in Celebrity-3 to yolov5pytorch: 5% [1826816 / 31844188] bytes"
     ]
    },
    {
     "name": "stdout",
     "output_type": "stream",
     "text": [
      "\rDownloading Dataset Version Zip in Celebrity-3 to yolov5pytorch: 5% [1835008 / 31844188] bytes"
     ]
    },
    {
     "name": "stdout",
     "output_type": "stream",
     "text": [
      "\rDownloading Dataset Version Zip in Celebrity-3 to yolov5pytorch: 5% [1843200 / 31844188] bytes"
     ]
    },
    {
     "name": "stdout",
     "output_type": "stream",
     "text": [
      "\rDownloading Dataset Version Zip in Celebrity-3 to yolov5pytorch: 5% [1851392 / 31844188] bytes"
     ]
    },
    {
     "name": "stdout",
     "output_type": "stream",
     "text": [
      "\rDownloading Dataset Version Zip in Celebrity-3 to yolov5pytorch: 5% [1859584 / 31844188] bytes"
     ]
    },
    {
     "name": "stdout",
     "output_type": "stream",
     "text": [
      "\rDownloading Dataset Version Zip in Celebrity-3 to yolov5pytorch: 5% [1867776 / 31844188] bytes"
     ]
    },
    {
     "name": "stdout",
     "output_type": "stream",
     "text": [
      "\rDownloading Dataset Version Zip in Celebrity-3 to yolov5pytorch: 5% [1875968 / 31844188] bytes"
     ]
    },
    {
     "name": "stdout",
     "output_type": "stream",
     "text": [
      "\rDownloading Dataset Version Zip in Celebrity-3 to yolov5pytorch: 5% [1884160 / 31844188] bytes"
     ]
    },
    {
     "name": "stdout",
     "output_type": "stream",
     "text": [
      "\rDownloading Dataset Version Zip in Celebrity-3 to yolov5pytorch: 5% [1892352 / 31844188] bytes"
     ]
    },
    {
     "name": "stdout",
     "output_type": "stream",
     "text": [
      "\rDownloading Dataset Version Zip in Celebrity-3 to yolov5pytorch: 5% [1900544 / 31844188] bytes"
     ]
    },
    {
     "name": "stdout",
     "output_type": "stream",
     "text": [
      "\rDownloading Dataset Version Zip in Celebrity-3 to yolov5pytorch: 5% [1908736 / 31844188] bytes"
     ]
    },
    {
     "name": "stdout",
     "output_type": "stream",
     "text": [
      "\rDownloading Dataset Version Zip in Celebrity-3 to yolov5pytorch: 6% [1916928 / 31844188] bytes"
     ]
    },
    {
     "name": "stdout",
     "output_type": "stream",
     "text": [
      "\rDownloading Dataset Version Zip in Celebrity-3 to yolov5pytorch: 6% [1925120 / 31844188] bytes"
     ]
    },
    {
     "name": "stdout",
     "output_type": "stream",
     "text": [
      "\rDownloading Dataset Version Zip in Celebrity-3 to yolov5pytorch: 6% [1933312 / 31844188] bytes"
     ]
    },
    {
     "name": "stdout",
     "output_type": "stream",
     "text": [
      "\rDownloading Dataset Version Zip in Celebrity-3 to yolov5pytorch: 6% [1941504 / 31844188] bytes"
     ]
    },
    {
     "name": "stdout",
     "output_type": "stream",
     "text": [
      "\rDownloading Dataset Version Zip in Celebrity-3 to yolov5pytorch: 6% [1949696 / 31844188] bytes"
     ]
    },
    {
     "name": "stdout",
     "output_type": "stream",
     "text": [
      "\rDownloading Dataset Version Zip in Celebrity-3 to yolov5pytorch: 6% [1957888 / 31844188] bytes"
     ]
    },
    {
     "name": "stdout",
     "output_type": "stream",
     "text": [
      "\rDownloading Dataset Version Zip in Celebrity-3 to yolov5pytorch: 6% [1966080 / 31844188] bytes"
     ]
    },
    {
     "name": "stdout",
     "output_type": "stream",
     "text": [
      "\rDownloading Dataset Version Zip in Celebrity-3 to yolov5pytorch: 6% [1974272 / 31844188] bytes"
     ]
    },
    {
     "name": "stdout",
     "output_type": "stream",
     "text": [
      "\rDownloading Dataset Version Zip in Celebrity-3 to yolov5pytorch: 6% [1982464 / 31844188] bytes"
     ]
    },
    {
     "name": "stdout",
     "output_type": "stream",
     "text": [
      "\rDownloading Dataset Version Zip in Celebrity-3 to yolov5pytorch: 6% [1990656 / 31844188] bytes"
     ]
    },
    {
     "name": "stdout",
     "output_type": "stream",
     "text": [
      "\rDownloading Dataset Version Zip in Celebrity-3 to yolov5pytorch: 6% [1998848 / 31844188] bytes"
     ]
    },
    {
     "name": "stdout",
     "output_type": "stream",
     "text": [
      "\rDownloading Dataset Version Zip in Celebrity-3 to yolov5pytorch: 6% [2007040 / 31844188] bytes"
     ]
    },
    {
     "name": "stdout",
     "output_type": "stream",
     "text": [
      "\rDownloading Dataset Version Zip in Celebrity-3 to yolov5pytorch: 6% [2015232 / 31844188] bytes"
     ]
    },
    {
     "name": "stdout",
     "output_type": "stream",
     "text": [
      "\rDownloading Dataset Version Zip in Celebrity-3 to yolov5pytorch: 6% [2023424 / 31844188] bytes"
     ]
    },
    {
     "name": "stdout",
     "output_type": "stream",
     "text": [
      "\rDownloading Dataset Version Zip in Celebrity-3 to yolov5pytorch: 6% [2031616 / 31844188] bytes"
     ]
    },
    {
     "name": "stdout",
     "output_type": "stream",
     "text": [
      "\rDownloading Dataset Version Zip in Celebrity-3 to yolov5pytorch: 6% [2039808 / 31844188] bytes"
     ]
    },
    {
     "name": "stdout",
     "output_type": "stream",
     "text": [
      "\rDownloading Dataset Version Zip in Celebrity-3 to yolov5pytorch: 6% [2048000 / 31844188] bytes"
     ]
    },
    {
     "name": "stdout",
     "output_type": "stream",
     "text": [
      "\rDownloading Dataset Version Zip in Celebrity-3 to yolov5pytorch: 6% [2056192 / 31844188] bytes"
     ]
    },
    {
     "name": "stdout",
     "output_type": "stream",
     "text": [
      "\rDownloading Dataset Version Zip in Celebrity-3 to yolov5pytorch: 6% [2064384 / 31844188] bytes"
     ]
    },
    {
     "name": "stdout",
     "output_type": "stream",
     "text": [
      "\rDownloading Dataset Version Zip in Celebrity-3 to yolov5pytorch: 6% [2072576 / 31844188] bytes"
     ]
    },
    {
     "name": "stdout",
     "output_type": "stream",
     "text": [
      "\rDownloading Dataset Version Zip in Celebrity-3 to yolov5pytorch: 6% [2080768 / 31844188] bytes"
     ]
    },
    {
     "name": "stdout",
     "output_type": "stream",
     "text": [
      "\rDownloading Dataset Version Zip in Celebrity-3 to yolov5pytorch: 6% [2088960 / 31844188] bytes"
     ]
    },
    {
     "name": "stdout",
     "output_type": "stream",
     "text": [
      "\rDownloading Dataset Version Zip in Celebrity-3 to yolov5pytorch: 6% [2097152 / 31844188] bytes"
     ]
    },
    {
     "name": "stdout",
     "output_type": "stream",
     "text": [
      "\rDownloading Dataset Version Zip in Celebrity-3 to yolov5pytorch: 6% [2105344 / 31844188] bytes"
     ]
    },
    {
     "name": "stdout",
     "output_type": "stream",
     "text": [
      "\rDownloading Dataset Version Zip in Celebrity-3 to yolov5pytorch: 6% [2113536 / 31844188] bytes"
     ]
    },
    {
     "name": "stdout",
     "output_type": "stream",
     "text": [
      "\rDownloading Dataset Version Zip in Celebrity-3 to yolov5pytorch: 6% [2121728 / 31844188] bytes"
     ]
    },
    {
     "name": "stdout",
     "output_type": "stream",
     "text": [
      "\rDownloading Dataset Version Zip in Celebrity-3 to yolov5pytorch: 6% [2129920 / 31844188] bytes"
     ]
    },
    {
     "name": "stdout",
     "output_type": "stream",
     "text": [
      "\rDownloading Dataset Version Zip in Celebrity-3 to yolov5pytorch: 6% [2138112 / 31844188] bytes"
     ]
    },
    {
     "name": "stdout",
     "output_type": "stream",
     "text": [
      "\rDownloading Dataset Version Zip in Celebrity-3 to yolov5pytorch: 6% [2146304 / 31844188] bytes"
     ]
    },
    {
     "name": "stdout",
     "output_type": "stream",
     "text": [
      "\rDownloading Dataset Version Zip in Celebrity-3 to yolov5pytorch: 6% [2154496 / 31844188] bytes"
     ]
    },
    {
     "name": "stdout",
     "output_type": "stream",
     "text": [
      "\rDownloading Dataset Version Zip in Celebrity-3 to yolov5pytorch: 6% [2162688 / 31844188] bytes"
     ]
    },
    {
     "name": "stdout",
     "output_type": "stream",
     "text": [
      "\rDownloading Dataset Version Zip in Celebrity-3 to yolov5pytorch: 6% [2170880 / 31844188] bytes"
     ]
    },
    {
     "name": "stdout",
     "output_type": "stream",
     "text": [
      "\rDownloading Dataset Version Zip in Celebrity-3 to yolov5pytorch: 6% [2179072 / 31844188] bytes"
     ]
    },
    {
     "name": "stdout",
     "output_type": "stream",
     "text": [
      "\rDownloading Dataset Version Zip in Celebrity-3 to yolov5pytorch: 6% [2187264 / 31844188] bytes"
     ]
    },
    {
     "name": "stdout",
     "output_type": "stream",
     "text": [
      "\rDownloading Dataset Version Zip in Celebrity-3 to yolov5pytorch: 6% [2195456 / 31844188] bytes"
     ]
    },
    {
     "name": "stdout",
     "output_type": "stream",
     "text": [
      "\rDownloading Dataset Version Zip in Celebrity-3 to yolov5pytorch: 6% [2203648 / 31844188] bytes"
     ]
    },
    {
     "name": "stdout",
     "output_type": "stream",
     "text": [
      "\rDownloading Dataset Version Zip in Celebrity-3 to yolov5pytorch: 6% [2211840 / 31844188] bytes"
     ]
    },
    {
     "name": "stdout",
     "output_type": "stream",
     "text": [
      "\rDownloading Dataset Version Zip in Celebrity-3 to yolov5pytorch: 6% [2220032 / 31844188] bytes"
     ]
    },
    {
     "name": "stdout",
     "output_type": "stream",
     "text": [
      "\rDownloading Dataset Version Zip in Celebrity-3 to yolov5pytorch: 6% [2228224 / 31844188] bytes"
     ]
    },
    {
     "name": "stdout",
     "output_type": "stream",
     "text": [
      "\rDownloading Dataset Version Zip in Celebrity-3 to yolov5pytorch: 7% [2236416 / 31844188] bytes"
     ]
    },
    {
     "name": "stdout",
     "output_type": "stream",
     "text": [
      "\rDownloading Dataset Version Zip in Celebrity-3 to yolov5pytorch: 7% [2244608 / 31844188] bytes"
     ]
    },
    {
     "name": "stdout",
     "output_type": "stream",
     "text": [
      "\rDownloading Dataset Version Zip in Celebrity-3 to yolov5pytorch: 7% [2252800 / 31844188] bytes"
     ]
    },
    {
     "name": "stdout",
     "output_type": "stream",
     "text": [
      "\rDownloading Dataset Version Zip in Celebrity-3 to yolov5pytorch: 7% [2260992 / 31844188] bytes"
     ]
    },
    {
     "name": "stdout",
     "output_type": "stream",
     "text": [
      "\rDownloading Dataset Version Zip in Celebrity-3 to yolov5pytorch: 7% [2269184 / 31844188] bytes"
     ]
    },
    {
     "name": "stdout",
     "output_type": "stream",
     "text": [
      "\rDownloading Dataset Version Zip in Celebrity-3 to yolov5pytorch: 7% [2277376 / 31844188] bytes"
     ]
    },
    {
     "name": "stdout",
     "output_type": "stream",
     "text": [
      "\rDownloading Dataset Version Zip in Celebrity-3 to yolov5pytorch: 7% [2285568 / 31844188] bytes"
     ]
    },
    {
     "name": "stdout",
     "output_type": "stream",
     "text": [
      "\rDownloading Dataset Version Zip in Celebrity-3 to yolov5pytorch: 7% [2293760 / 31844188] bytes"
     ]
    },
    {
     "name": "stdout",
     "output_type": "stream",
     "text": [
      "\rDownloading Dataset Version Zip in Celebrity-3 to yolov5pytorch: 7% [2301952 / 31844188] bytes"
     ]
    },
    {
     "name": "stdout",
     "output_type": "stream",
     "text": [
      "\rDownloading Dataset Version Zip in Celebrity-3 to yolov5pytorch: 7% [2310144 / 31844188] bytes"
     ]
    },
    {
     "name": "stdout",
     "output_type": "stream",
     "text": [
      "\rDownloading Dataset Version Zip in Celebrity-3 to yolov5pytorch: 7% [2318336 / 31844188] bytes"
     ]
    },
    {
     "name": "stdout",
     "output_type": "stream",
     "text": [
      "\rDownloading Dataset Version Zip in Celebrity-3 to yolov5pytorch: 7% [2326528 / 31844188] bytes"
     ]
    },
    {
     "name": "stdout",
     "output_type": "stream",
     "text": [
      "\rDownloading Dataset Version Zip in Celebrity-3 to yolov5pytorch: 7% [2334720 / 31844188] bytes"
     ]
    },
    {
     "name": "stdout",
     "output_type": "stream",
     "text": [
      "\rDownloading Dataset Version Zip in Celebrity-3 to yolov5pytorch: 7% [2342912 / 31844188] bytes"
     ]
    },
    {
     "name": "stdout",
     "output_type": "stream",
     "text": [
      "\rDownloading Dataset Version Zip in Celebrity-3 to yolov5pytorch: 7% [2351104 / 31844188] bytes"
     ]
    },
    {
     "name": "stdout",
     "output_type": "stream",
     "text": [
      "\rDownloading Dataset Version Zip in Celebrity-3 to yolov5pytorch: 7% [2359296 / 31844188] bytes"
     ]
    },
    {
     "name": "stdout",
     "output_type": "stream",
     "text": [
      "\rDownloading Dataset Version Zip in Celebrity-3 to yolov5pytorch: 7% [2367488 / 31844188] bytes"
     ]
    },
    {
     "name": "stdout",
     "output_type": "stream",
     "text": [
      "\rDownloading Dataset Version Zip in Celebrity-3 to yolov5pytorch: 7% [2375680 / 31844188] bytes"
     ]
    },
    {
     "name": "stdout",
     "output_type": "stream",
     "text": [
      "\rDownloading Dataset Version Zip in Celebrity-3 to yolov5pytorch: 7% [2383872 / 31844188] bytes"
     ]
    },
    {
     "name": "stdout",
     "output_type": "stream",
     "text": [
      "\rDownloading Dataset Version Zip in Celebrity-3 to yolov5pytorch: 7% [2392064 / 31844188] bytes"
     ]
    },
    {
     "name": "stdout",
     "output_type": "stream",
     "text": [
      "\rDownloading Dataset Version Zip in Celebrity-3 to yolov5pytorch: 7% [2400256 / 31844188] bytes"
     ]
    },
    {
     "name": "stdout",
     "output_type": "stream",
     "text": [
      "\rDownloading Dataset Version Zip in Celebrity-3 to yolov5pytorch: 7% [2408448 / 31844188] bytes"
     ]
    },
    {
     "name": "stdout",
     "output_type": "stream",
     "text": [
      "\rDownloading Dataset Version Zip in Celebrity-3 to yolov5pytorch: 7% [2416640 / 31844188] bytes"
     ]
    },
    {
     "name": "stdout",
     "output_type": "stream",
     "text": [
      "\rDownloading Dataset Version Zip in Celebrity-3 to yolov5pytorch: 7% [2424832 / 31844188] bytes"
     ]
    },
    {
     "name": "stdout",
     "output_type": "stream",
     "text": [
      "\rDownloading Dataset Version Zip in Celebrity-3 to yolov5pytorch: 7% [2433024 / 31844188] bytes"
     ]
    },
    {
     "name": "stdout",
     "output_type": "stream",
     "text": [
      "\rDownloading Dataset Version Zip in Celebrity-3 to yolov5pytorch: 7% [2441216 / 31844188] bytes"
     ]
    },
    {
     "name": "stdout",
     "output_type": "stream",
     "text": [
      "\rDownloading Dataset Version Zip in Celebrity-3 to yolov5pytorch: 7% [2449408 / 31844188] bytes"
     ]
    },
    {
     "name": "stdout",
     "output_type": "stream",
     "text": [
      "\rDownloading Dataset Version Zip in Celebrity-3 to yolov5pytorch: 7% [2457600 / 31844188] bytes"
     ]
    },
    {
     "name": "stdout",
     "output_type": "stream",
     "text": [
      "\rDownloading Dataset Version Zip in Celebrity-3 to yolov5pytorch: 7% [2465792 / 31844188] bytes"
     ]
    },
    {
     "name": "stdout",
     "output_type": "stream",
     "text": [
      "\rDownloading Dataset Version Zip in Celebrity-3 to yolov5pytorch: 7% [2473984 / 31844188] bytes"
     ]
    },
    {
     "name": "stdout",
     "output_type": "stream",
     "text": [
      "\rDownloading Dataset Version Zip in Celebrity-3 to yolov5pytorch: 7% [2482176 / 31844188] bytes"
     ]
    },
    {
     "name": "stdout",
     "output_type": "stream",
     "text": [
      "\rDownloading Dataset Version Zip in Celebrity-3 to yolov5pytorch: 7% [2490368 / 31844188] bytes"
     ]
    },
    {
     "name": "stdout",
     "output_type": "stream",
     "text": [
      "\rDownloading Dataset Version Zip in Celebrity-3 to yolov5pytorch: 7% [2498560 / 31844188] bytes"
     ]
    },
    {
     "name": "stdout",
     "output_type": "stream",
     "text": [
      "\rDownloading Dataset Version Zip in Celebrity-3 to yolov5pytorch: 7% [2506752 / 31844188] bytes"
     ]
    },
    {
     "name": "stdout",
     "output_type": "stream",
     "text": [
      "\rDownloading Dataset Version Zip in Celebrity-3 to yolov5pytorch: 7% [2514944 / 31844188] bytes"
     ]
    },
    {
     "name": "stdout",
     "output_type": "stream",
     "text": [
      "\rDownloading Dataset Version Zip in Celebrity-3 to yolov5pytorch: 7% [2523136 / 31844188] bytes"
     ]
    },
    {
     "name": "stdout",
     "output_type": "stream",
     "text": [
      "\rDownloading Dataset Version Zip in Celebrity-3 to yolov5pytorch: 7% [2531328 / 31844188] bytes"
     ]
    },
    {
     "name": "stdout",
     "output_type": "stream",
     "text": [
      "\rDownloading Dataset Version Zip in Celebrity-3 to yolov5pytorch: 7% [2539520 / 31844188] bytes"
     ]
    },
    {
     "name": "stdout",
     "output_type": "stream",
     "text": [
      "\rDownloading Dataset Version Zip in Celebrity-3 to yolov5pytorch: 8% [2547712 / 31844188] bytes"
     ]
    },
    {
     "name": "stdout",
     "output_type": "stream",
     "text": [
      "\rDownloading Dataset Version Zip in Celebrity-3 to yolov5pytorch: 8% [2555904 / 31844188] bytes"
     ]
    },
    {
     "name": "stdout",
     "output_type": "stream",
     "text": [
      "\rDownloading Dataset Version Zip in Celebrity-3 to yolov5pytorch: 8% [2564096 / 31844188] bytes"
     ]
    },
    {
     "name": "stdout",
     "output_type": "stream",
     "text": [
      "\rDownloading Dataset Version Zip in Celebrity-3 to yolov5pytorch: 8% [2572288 / 31844188] bytes"
     ]
    },
    {
     "name": "stdout",
     "output_type": "stream",
     "text": [
      "\rDownloading Dataset Version Zip in Celebrity-3 to yolov5pytorch: 8% [2580480 / 31844188] bytes"
     ]
    },
    {
     "name": "stdout",
     "output_type": "stream",
     "text": [
      "\rDownloading Dataset Version Zip in Celebrity-3 to yolov5pytorch: 8% [2588672 / 31844188] bytes"
     ]
    },
    {
     "name": "stdout",
     "output_type": "stream",
     "text": [
      "\rDownloading Dataset Version Zip in Celebrity-3 to yolov5pytorch: 8% [2596864 / 31844188] bytes"
     ]
    },
    {
     "name": "stdout",
     "output_type": "stream",
     "text": [
      "\rDownloading Dataset Version Zip in Celebrity-3 to yolov5pytorch: 8% [2605056 / 31844188] bytes"
     ]
    },
    {
     "name": "stdout",
     "output_type": "stream",
     "text": [
      "\rDownloading Dataset Version Zip in Celebrity-3 to yolov5pytorch: 8% [2613248 / 31844188] bytes"
     ]
    },
    {
     "name": "stdout",
     "output_type": "stream",
     "text": [
      "\rDownloading Dataset Version Zip in Celebrity-3 to yolov5pytorch: 8% [2621440 / 31844188] bytes"
     ]
    },
    {
     "name": "stdout",
     "output_type": "stream",
     "text": [
      "\rDownloading Dataset Version Zip in Celebrity-3 to yolov5pytorch: 8% [2629632 / 31844188] bytes"
     ]
    },
    {
     "name": "stdout",
     "output_type": "stream",
     "text": [
      "\rDownloading Dataset Version Zip in Celebrity-3 to yolov5pytorch: 8% [2637824 / 31844188] bytes"
     ]
    },
    {
     "name": "stdout",
     "output_type": "stream",
     "text": [
      "\rDownloading Dataset Version Zip in Celebrity-3 to yolov5pytorch: 8% [2646016 / 31844188] bytes"
     ]
    },
    {
     "name": "stdout",
     "output_type": "stream",
     "text": [
      "\rDownloading Dataset Version Zip in Celebrity-3 to yolov5pytorch: 8% [2654208 / 31844188] bytes"
     ]
    },
    {
     "name": "stdout",
     "output_type": "stream",
     "text": [
      "\rDownloading Dataset Version Zip in Celebrity-3 to yolov5pytorch: 8% [2662400 / 31844188] bytes"
     ]
    },
    {
     "name": "stdout",
     "output_type": "stream",
     "text": [
      "\rDownloading Dataset Version Zip in Celebrity-3 to yolov5pytorch: 8% [2670592 / 31844188] bytes"
     ]
    },
    {
     "name": "stdout",
     "output_type": "stream",
     "text": [
      "\rDownloading Dataset Version Zip in Celebrity-3 to yolov5pytorch: 8% [2678784 / 31844188] bytes"
     ]
    },
    {
     "name": "stdout",
     "output_type": "stream",
     "text": [
      "\rDownloading Dataset Version Zip in Celebrity-3 to yolov5pytorch: 8% [2686976 / 31844188] bytes"
     ]
    },
    {
     "name": "stdout",
     "output_type": "stream",
     "text": [
      "\rDownloading Dataset Version Zip in Celebrity-3 to yolov5pytorch: 8% [2695168 / 31844188] bytes"
     ]
    },
    {
     "name": "stdout",
     "output_type": "stream",
     "text": [
      "\rDownloading Dataset Version Zip in Celebrity-3 to yolov5pytorch: 8% [2703360 / 31844188] bytes"
     ]
    },
    {
     "name": "stdout",
     "output_type": "stream",
     "text": [
      "\rDownloading Dataset Version Zip in Celebrity-3 to yolov5pytorch: 8% [2711552 / 31844188] bytes"
     ]
    },
    {
     "name": "stdout",
     "output_type": "stream",
     "text": [
      "\rDownloading Dataset Version Zip in Celebrity-3 to yolov5pytorch: 8% [2719744 / 31844188] bytes"
     ]
    },
    {
     "name": "stdout",
     "output_type": "stream",
     "text": [
      "\rDownloading Dataset Version Zip in Celebrity-3 to yolov5pytorch: 8% [2727936 / 31844188] bytes"
     ]
    },
    {
     "name": "stdout",
     "output_type": "stream",
     "text": [
      "\rDownloading Dataset Version Zip in Celebrity-3 to yolov5pytorch: 8% [2736128 / 31844188] bytes"
     ]
    },
    {
     "name": "stdout",
     "output_type": "stream",
     "text": [
      "\rDownloading Dataset Version Zip in Celebrity-3 to yolov5pytorch: 8% [2744320 / 31844188] bytes"
     ]
    },
    {
     "name": "stdout",
     "output_type": "stream",
     "text": [
      "\rDownloading Dataset Version Zip in Celebrity-3 to yolov5pytorch: 8% [2752512 / 31844188] bytes"
     ]
    },
    {
     "name": "stdout",
     "output_type": "stream",
     "text": [
      "\rDownloading Dataset Version Zip in Celebrity-3 to yolov5pytorch: 8% [2760704 / 31844188] bytes"
     ]
    },
    {
     "name": "stdout",
     "output_type": "stream",
     "text": [
      "\rDownloading Dataset Version Zip in Celebrity-3 to yolov5pytorch: 8% [2768896 / 31844188] bytes"
     ]
    },
    {
     "name": "stdout",
     "output_type": "stream",
     "text": [
      "\rDownloading Dataset Version Zip in Celebrity-3 to yolov5pytorch: 8% [2777088 / 31844188] bytes"
     ]
    },
    {
     "name": "stdout",
     "output_type": "stream",
     "text": [
      "\rDownloading Dataset Version Zip in Celebrity-3 to yolov5pytorch: 8% [2785280 / 31844188] bytes"
     ]
    },
    {
     "name": "stdout",
     "output_type": "stream",
     "text": [
      "\rDownloading Dataset Version Zip in Celebrity-3 to yolov5pytorch: 8% [2793472 / 31844188] bytes"
     ]
    },
    {
     "name": "stdout",
     "output_type": "stream",
     "text": [
      "\rDownloading Dataset Version Zip in Celebrity-3 to yolov5pytorch: 8% [2801664 / 31844188] bytes"
     ]
    },
    {
     "name": "stdout",
     "output_type": "stream",
     "text": [
      "\rDownloading Dataset Version Zip in Celebrity-3 to yolov5pytorch: 8% [2809856 / 31844188] bytes"
     ]
    },
    {
     "name": "stdout",
     "output_type": "stream",
     "text": [
      "\rDownloading Dataset Version Zip in Celebrity-3 to yolov5pytorch: 8% [2818048 / 31844188] bytes"
     ]
    },
    {
     "name": "stdout",
     "output_type": "stream",
     "text": [
      "\rDownloading Dataset Version Zip in Celebrity-3 to yolov5pytorch: 8% [2826240 / 31844188] bytes"
     ]
    },
    {
     "name": "stdout",
     "output_type": "stream",
     "text": [
      "\rDownloading Dataset Version Zip in Celebrity-3 to yolov5pytorch: 8% [2834432 / 31844188] bytes"
     ]
    },
    {
     "name": "stdout",
     "output_type": "stream",
     "text": [
      "\rDownloading Dataset Version Zip in Celebrity-3 to yolov5pytorch: 8% [2842624 / 31844188] bytes"
     ]
    },
    {
     "name": "stdout",
     "output_type": "stream",
     "text": [
      "\rDownloading Dataset Version Zip in Celebrity-3 to yolov5pytorch: 8% [2850816 / 31844188] bytes"
     ]
    },
    {
     "name": "stdout",
     "output_type": "stream",
     "text": [
      "\rDownloading Dataset Version Zip in Celebrity-3 to yolov5pytorch: 8% [2859008 / 31844188] bytes"
     ]
    },
    {
     "name": "stdout",
     "output_type": "stream",
     "text": [
      "\rDownloading Dataset Version Zip in Celebrity-3 to yolov5pytorch: 9% [2867200 / 31844188] bytes"
     ]
    },
    {
     "name": "stdout",
     "output_type": "stream",
     "text": [
      "\rDownloading Dataset Version Zip in Celebrity-3 to yolov5pytorch: 9% [2875392 / 31844188] bytes"
     ]
    },
    {
     "name": "stdout",
     "output_type": "stream",
     "text": [
      "\rDownloading Dataset Version Zip in Celebrity-3 to yolov5pytorch: 9% [2883584 / 31844188] bytes"
     ]
    },
    {
     "name": "stdout",
     "output_type": "stream",
     "text": [
      "\rDownloading Dataset Version Zip in Celebrity-3 to yolov5pytorch: 9% [2891776 / 31844188] bytes"
     ]
    },
    {
     "name": "stdout",
     "output_type": "stream",
     "text": [
      "\rDownloading Dataset Version Zip in Celebrity-3 to yolov5pytorch: 9% [2899968 / 31844188] bytes"
     ]
    },
    {
     "name": "stdout",
     "output_type": "stream",
     "text": [
      "\rDownloading Dataset Version Zip in Celebrity-3 to yolov5pytorch: 9% [2908160 / 31844188] bytes"
     ]
    },
    {
     "name": "stdout",
     "output_type": "stream",
     "text": [
      "\rDownloading Dataset Version Zip in Celebrity-3 to yolov5pytorch: 9% [2916352 / 31844188] bytes"
     ]
    },
    {
     "name": "stdout",
     "output_type": "stream",
     "text": [
      "\rDownloading Dataset Version Zip in Celebrity-3 to yolov5pytorch: 9% [2924544 / 31844188] bytes"
     ]
    },
    {
     "name": "stdout",
     "output_type": "stream",
     "text": [
      "\rDownloading Dataset Version Zip in Celebrity-3 to yolov5pytorch: 9% [2932736 / 31844188] bytes"
     ]
    },
    {
     "name": "stdout",
     "output_type": "stream",
     "text": [
      "\rDownloading Dataset Version Zip in Celebrity-3 to yolov5pytorch: 9% [2940928 / 31844188] bytes"
     ]
    },
    {
     "name": "stdout",
     "output_type": "stream",
     "text": [
      "\rDownloading Dataset Version Zip in Celebrity-3 to yolov5pytorch: 9% [2949120 / 31844188] bytes"
     ]
    },
    {
     "name": "stdout",
     "output_type": "stream",
     "text": [
      "\rDownloading Dataset Version Zip in Celebrity-3 to yolov5pytorch: 9% [2957312 / 31844188] bytes"
     ]
    },
    {
     "name": "stdout",
     "output_type": "stream",
     "text": [
      "\rDownloading Dataset Version Zip in Celebrity-3 to yolov5pytorch: 9% [2965504 / 31844188] bytes"
     ]
    },
    {
     "name": "stdout",
     "output_type": "stream",
     "text": [
      "\rDownloading Dataset Version Zip in Celebrity-3 to yolov5pytorch: 9% [2973696 / 31844188] bytes"
     ]
    },
    {
     "name": "stdout",
     "output_type": "stream",
     "text": [
      "\rDownloading Dataset Version Zip in Celebrity-3 to yolov5pytorch: 9% [2981888 / 31844188] bytes"
     ]
    },
    {
     "name": "stdout",
     "output_type": "stream",
     "text": [
      "\rDownloading Dataset Version Zip in Celebrity-3 to yolov5pytorch: 9% [2990080 / 31844188] bytes"
     ]
    },
    {
     "name": "stdout",
     "output_type": "stream",
     "text": [
      "\rDownloading Dataset Version Zip in Celebrity-3 to yolov5pytorch: 9% [2998272 / 31844188] bytes"
     ]
    },
    {
     "name": "stdout",
     "output_type": "stream",
     "text": [
      "\rDownloading Dataset Version Zip in Celebrity-3 to yolov5pytorch: 9% [3006464 / 31844188] bytes"
     ]
    },
    {
     "name": "stdout",
     "output_type": "stream",
     "text": [
      "\rDownloading Dataset Version Zip in Celebrity-3 to yolov5pytorch: 9% [3014656 / 31844188] bytes"
     ]
    },
    {
     "name": "stdout",
     "output_type": "stream",
     "text": [
      "\rDownloading Dataset Version Zip in Celebrity-3 to yolov5pytorch: 9% [3022848 / 31844188] bytes"
     ]
    },
    {
     "name": "stdout",
     "output_type": "stream",
     "text": [
      "\rDownloading Dataset Version Zip in Celebrity-3 to yolov5pytorch: 9% [3031040 / 31844188] bytes"
     ]
    },
    {
     "name": "stdout",
     "output_type": "stream",
     "text": [
      "\rDownloading Dataset Version Zip in Celebrity-3 to yolov5pytorch: 9% [3039232 / 31844188] bytes"
     ]
    },
    {
     "name": "stdout",
     "output_type": "stream",
     "text": [
      "\rDownloading Dataset Version Zip in Celebrity-3 to yolov5pytorch: 9% [3047424 / 31844188] bytes"
     ]
    },
    {
     "name": "stdout",
     "output_type": "stream",
     "text": [
      "\rDownloading Dataset Version Zip in Celebrity-3 to yolov5pytorch: 9% [3055616 / 31844188] bytes"
     ]
    },
    {
     "name": "stdout",
     "output_type": "stream",
     "text": [
      "\rDownloading Dataset Version Zip in Celebrity-3 to yolov5pytorch: 9% [3063808 / 31844188] bytes"
     ]
    },
    {
     "name": "stdout",
     "output_type": "stream",
     "text": [
      "\rDownloading Dataset Version Zip in Celebrity-3 to yolov5pytorch: 9% [3072000 / 31844188] bytes"
     ]
    },
    {
     "name": "stdout",
     "output_type": "stream",
     "text": [
      "\rDownloading Dataset Version Zip in Celebrity-3 to yolov5pytorch: 9% [3080192 / 31844188] bytes"
     ]
    },
    {
     "name": "stdout",
     "output_type": "stream",
     "text": [
      "\rDownloading Dataset Version Zip in Celebrity-3 to yolov5pytorch: 9% [3088384 / 31844188] bytes"
     ]
    },
    {
     "name": "stdout",
     "output_type": "stream",
     "text": [
      "\rDownloading Dataset Version Zip in Celebrity-3 to yolov5pytorch: 9% [3096576 / 31844188] bytes"
     ]
    },
    {
     "name": "stdout",
     "output_type": "stream",
     "text": [
      "\rDownloading Dataset Version Zip in Celebrity-3 to yolov5pytorch: 9% [3104768 / 31844188] bytes"
     ]
    },
    {
     "name": "stdout",
     "output_type": "stream",
     "text": [
      "\rDownloading Dataset Version Zip in Celebrity-3 to yolov5pytorch: 9% [3112960 / 31844188] bytes"
     ]
    },
    {
     "name": "stdout",
     "output_type": "stream",
     "text": [
      "\rDownloading Dataset Version Zip in Celebrity-3 to yolov5pytorch: 9% [3121152 / 31844188] bytes"
     ]
    },
    {
     "name": "stdout",
     "output_type": "stream",
     "text": [
      "\rDownloading Dataset Version Zip in Celebrity-3 to yolov5pytorch: 9% [3129344 / 31844188] bytes"
     ]
    },
    {
     "name": "stdout",
     "output_type": "stream",
     "text": [
      "\rDownloading Dataset Version Zip in Celebrity-3 to yolov5pytorch: 9% [3137536 / 31844188] bytes"
     ]
    },
    {
     "name": "stdout",
     "output_type": "stream",
     "text": [
      "\rDownloading Dataset Version Zip in Celebrity-3 to yolov5pytorch: 9% [3145728 / 31844188] bytes"
     ]
    },
    {
     "name": "stdout",
     "output_type": "stream",
     "text": [
      "\rDownloading Dataset Version Zip in Celebrity-3 to yolov5pytorch: 9% [3153920 / 31844188] bytes"
     ]
    },
    {
     "name": "stdout",
     "output_type": "stream",
     "text": [
      "\rDownloading Dataset Version Zip in Celebrity-3 to yolov5pytorch: 9% [3162112 / 31844188] bytes"
     ]
    },
    {
     "name": "stdout",
     "output_type": "stream",
     "text": [
      "\rDownloading Dataset Version Zip in Celebrity-3 to yolov5pytorch: 9% [3170304 / 31844188] bytes"
     ]
    },
    {
     "name": "stdout",
     "output_type": "stream",
     "text": [
      "\rDownloading Dataset Version Zip in Celebrity-3 to yolov5pytorch: 9% [3178496 / 31844188] bytes"
     ]
    },
    {
     "name": "stdout",
     "output_type": "stream",
     "text": [
      "\rDownloading Dataset Version Zip in Celebrity-3 to yolov5pytorch: 10% [3186688 / 31844188] bytes"
     ]
    },
    {
     "name": "stdout",
     "output_type": "stream",
     "text": [
      "\rDownloading Dataset Version Zip in Celebrity-3 to yolov5pytorch: 10% [3194880 / 31844188] bytes"
     ]
    },
    {
     "name": "stdout",
     "output_type": "stream",
     "text": [
      "\rDownloading Dataset Version Zip in Celebrity-3 to yolov5pytorch: 10% [3203072 / 31844188] bytes"
     ]
    },
    {
     "name": "stdout",
     "output_type": "stream",
     "text": [
      "\rDownloading Dataset Version Zip in Celebrity-3 to yolov5pytorch: 10% [3211264 / 31844188] bytes"
     ]
    },
    {
     "name": "stdout",
     "output_type": "stream",
     "text": [
      "\rDownloading Dataset Version Zip in Celebrity-3 to yolov5pytorch: 10% [3219456 / 31844188] bytes"
     ]
    },
    {
     "name": "stdout",
     "output_type": "stream",
     "text": [
      "\rDownloading Dataset Version Zip in Celebrity-3 to yolov5pytorch: 10% [3227648 / 31844188] bytes"
     ]
    },
    {
     "name": "stdout",
     "output_type": "stream",
     "text": [
      "\rDownloading Dataset Version Zip in Celebrity-3 to yolov5pytorch: 10% [3235840 / 31844188] bytes"
     ]
    },
    {
     "name": "stdout",
     "output_type": "stream",
     "text": [
      "\rDownloading Dataset Version Zip in Celebrity-3 to yolov5pytorch: 10% [3244032 / 31844188] bytes"
     ]
    },
    {
     "name": "stdout",
     "output_type": "stream",
     "text": [
      "\rDownloading Dataset Version Zip in Celebrity-3 to yolov5pytorch: 10% [3252224 / 31844188] bytes"
     ]
    },
    {
     "name": "stdout",
     "output_type": "stream",
     "text": [
      "\rDownloading Dataset Version Zip in Celebrity-3 to yolov5pytorch: 10% [3260416 / 31844188] bytes"
     ]
    },
    {
     "name": "stdout",
     "output_type": "stream",
     "text": [
      "\rDownloading Dataset Version Zip in Celebrity-3 to yolov5pytorch: 10% [3268608 / 31844188] bytes"
     ]
    },
    {
     "name": "stdout",
     "output_type": "stream",
     "text": [
      "\rDownloading Dataset Version Zip in Celebrity-3 to yolov5pytorch: 10% [3276800 / 31844188] bytes"
     ]
    },
    {
     "name": "stdout",
     "output_type": "stream",
     "text": [
      "\rDownloading Dataset Version Zip in Celebrity-3 to yolov5pytorch: 10% [3284992 / 31844188] bytes"
     ]
    },
    {
     "name": "stdout",
     "output_type": "stream",
     "text": [
      "\rDownloading Dataset Version Zip in Celebrity-3 to yolov5pytorch: 10% [3293184 / 31844188] bytes"
     ]
    },
    {
     "name": "stdout",
     "output_type": "stream",
     "text": [
      "\rDownloading Dataset Version Zip in Celebrity-3 to yolov5pytorch: 10% [3301376 / 31844188] bytes"
     ]
    },
    {
     "name": "stdout",
     "output_type": "stream",
     "text": [
      "\rDownloading Dataset Version Zip in Celebrity-3 to yolov5pytorch: 10% [3309568 / 31844188] bytes"
     ]
    },
    {
     "name": "stdout",
     "output_type": "stream",
     "text": [
      "\rDownloading Dataset Version Zip in Celebrity-3 to yolov5pytorch: 10% [3317760 / 31844188] bytes"
     ]
    },
    {
     "name": "stdout",
     "output_type": "stream",
     "text": [
      "\rDownloading Dataset Version Zip in Celebrity-3 to yolov5pytorch: 10% [3325952 / 31844188] bytes"
     ]
    },
    {
     "name": "stdout",
     "output_type": "stream",
     "text": [
      "\rDownloading Dataset Version Zip in Celebrity-3 to yolov5pytorch: 10% [3334144 / 31844188] bytes"
     ]
    },
    {
     "name": "stdout",
     "output_type": "stream",
     "text": [
      "\rDownloading Dataset Version Zip in Celebrity-3 to yolov5pytorch: 10% [3342336 / 31844188] bytes"
     ]
    },
    {
     "name": "stdout",
     "output_type": "stream",
     "text": [
      "\rDownloading Dataset Version Zip in Celebrity-3 to yolov5pytorch: 10% [3350528 / 31844188] bytes"
     ]
    },
    {
     "name": "stdout",
     "output_type": "stream",
     "text": [
      "\rDownloading Dataset Version Zip in Celebrity-3 to yolov5pytorch: 10% [3358720 / 31844188] bytes"
     ]
    },
    {
     "name": "stdout",
     "output_type": "stream",
     "text": [
      "\rDownloading Dataset Version Zip in Celebrity-3 to yolov5pytorch: 10% [3366912 / 31844188] bytes"
     ]
    },
    {
     "name": "stdout",
     "output_type": "stream",
     "text": [
      "\rDownloading Dataset Version Zip in Celebrity-3 to yolov5pytorch: 10% [3375104 / 31844188] bytes"
     ]
    },
    {
     "name": "stdout",
     "output_type": "stream",
     "text": [
      "\rDownloading Dataset Version Zip in Celebrity-3 to yolov5pytorch: 10% [3383296 / 31844188] bytes"
     ]
    },
    {
     "name": "stdout",
     "output_type": "stream",
     "text": [
      "\rDownloading Dataset Version Zip in Celebrity-3 to yolov5pytorch: 10% [3391488 / 31844188] bytes"
     ]
    },
    {
     "name": "stdout",
     "output_type": "stream",
     "text": [
      "\rDownloading Dataset Version Zip in Celebrity-3 to yolov5pytorch: 10% [3399680 / 31844188] bytes"
     ]
    },
    {
     "name": "stdout",
     "output_type": "stream",
     "text": [
      "\rDownloading Dataset Version Zip in Celebrity-3 to yolov5pytorch: 10% [3407872 / 31844188] bytes"
     ]
    },
    {
     "name": "stdout",
     "output_type": "stream",
     "text": [
      "\rDownloading Dataset Version Zip in Celebrity-3 to yolov5pytorch: 10% [3416064 / 31844188] bytes"
     ]
    },
    {
     "name": "stdout",
     "output_type": "stream",
     "text": [
      "\rDownloading Dataset Version Zip in Celebrity-3 to yolov5pytorch: 10% [3424256 / 31844188] bytes"
     ]
    },
    {
     "name": "stdout",
     "output_type": "stream",
     "text": [
      "\rDownloading Dataset Version Zip in Celebrity-3 to yolov5pytorch: 10% [3432448 / 31844188] bytes"
     ]
    },
    {
     "name": "stdout",
     "output_type": "stream",
     "text": [
      "\rDownloading Dataset Version Zip in Celebrity-3 to yolov5pytorch: 10% [3440640 / 31844188] bytes"
     ]
    },
    {
     "name": "stdout",
     "output_type": "stream",
     "text": [
      "\rDownloading Dataset Version Zip in Celebrity-3 to yolov5pytorch: 10% [3448832 / 31844188] bytes"
     ]
    },
    {
     "name": "stdout",
     "output_type": "stream",
     "text": [
      "\rDownloading Dataset Version Zip in Celebrity-3 to yolov5pytorch: 10% [3457024 / 31844188] bytes"
     ]
    },
    {
     "name": "stdout",
     "output_type": "stream",
     "text": [
      "\rDownloading Dataset Version Zip in Celebrity-3 to yolov5pytorch: 10% [3465216 / 31844188] bytes"
     ]
    },
    {
     "name": "stdout",
     "output_type": "stream",
     "text": [
      "\rDownloading Dataset Version Zip in Celebrity-3 to yolov5pytorch: 10% [3473408 / 31844188] bytes"
     ]
    },
    {
     "name": "stdout",
     "output_type": "stream",
     "text": [
      "\rDownloading Dataset Version Zip in Celebrity-3 to yolov5pytorch: 10% [3481600 / 31844188] bytes"
     ]
    },
    {
     "name": "stdout",
     "output_type": "stream",
     "text": [
      "\rDownloading Dataset Version Zip in Celebrity-3 to yolov5pytorch: 10% [3489792 / 31844188] bytes"
     ]
    },
    {
     "name": "stdout",
     "output_type": "stream",
     "text": [
      "\rDownloading Dataset Version Zip in Celebrity-3 to yolov5pytorch: 10% [3497984 / 31844188] bytes"
     ]
    },
    {
     "name": "stdout",
     "output_type": "stream",
     "text": [
      "\rDownloading Dataset Version Zip in Celebrity-3 to yolov5pytorch: 11% [3506176 / 31844188] bytes"
     ]
    },
    {
     "name": "stdout",
     "output_type": "stream",
     "text": [
      "\rDownloading Dataset Version Zip in Celebrity-3 to yolov5pytorch: 11% [3514368 / 31844188] bytes"
     ]
    },
    {
     "name": "stdout",
     "output_type": "stream",
     "text": [
      "\rDownloading Dataset Version Zip in Celebrity-3 to yolov5pytorch: 11% [3522560 / 31844188] bytes"
     ]
    },
    {
     "name": "stdout",
     "output_type": "stream",
     "text": [
      "\rDownloading Dataset Version Zip in Celebrity-3 to yolov5pytorch: 11% [3530752 / 31844188] bytes"
     ]
    },
    {
     "name": "stdout",
     "output_type": "stream",
     "text": [
      "\rDownloading Dataset Version Zip in Celebrity-3 to yolov5pytorch: 11% [3538944 / 31844188] bytes"
     ]
    },
    {
     "name": "stdout",
     "output_type": "stream",
     "text": [
      "\rDownloading Dataset Version Zip in Celebrity-3 to yolov5pytorch: 11% [3547136 / 31844188] bytes"
     ]
    },
    {
     "name": "stdout",
     "output_type": "stream",
     "text": [
      "\rDownloading Dataset Version Zip in Celebrity-3 to yolov5pytorch: 11% [3555328 / 31844188] bytes"
     ]
    },
    {
     "name": "stdout",
     "output_type": "stream",
     "text": [
      "\rDownloading Dataset Version Zip in Celebrity-3 to yolov5pytorch: 11% [3563520 / 31844188] bytes"
     ]
    },
    {
     "name": "stdout",
     "output_type": "stream",
     "text": [
      "\rDownloading Dataset Version Zip in Celebrity-3 to yolov5pytorch: 11% [3571712 / 31844188] bytes"
     ]
    },
    {
     "name": "stdout",
     "output_type": "stream",
     "text": [
      "\rDownloading Dataset Version Zip in Celebrity-3 to yolov5pytorch: 11% [3579904 / 31844188] bytes"
     ]
    },
    {
     "name": "stdout",
     "output_type": "stream",
     "text": [
      "\rDownloading Dataset Version Zip in Celebrity-3 to yolov5pytorch: 11% [3588096 / 31844188] bytes"
     ]
    },
    {
     "name": "stdout",
     "output_type": "stream",
     "text": [
      "\rDownloading Dataset Version Zip in Celebrity-3 to yolov5pytorch: 11% [3596288 / 31844188] bytes"
     ]
    },
    {
     "name": "stdout",
     "output_type": "stream",
     "text": [
      "\rDownloading Dataset Version Zip in Celebrity-3 to yolov5pytorch: 11% [3604480 / 31844188] bytes"
     ]
    },
    {
     "name": "stdout",
     "output_type": "stream",
     "text": [
      "\rDownloading Dataset Version Zip in Celebrity-3 to yolov5pytorch: 11% [3612672 / 31844188] bytes"
     ]
    },
    {
     "name": "stdout",
     "output_type": "stream",
     "text": [
      "\rDownloading Dataset Version Zip in Celebrity-3 to yolov5pytorch: 11% [3620864 / 31844188] bytes"
     ]
    },
    {
     "name": "stdout",
     "output_type": "stream",
     "text": [
      "\rDownloading Dataset Version Zip in Celebrity-3 to yolov5pytorch: 11% [3629056 / 31844188] bytes"
     ]
    },
    {
     "name": "stdout",
     "output_type": "stream",
     "text": [
      "\rDownloading Dataset Version Zip in Celebrity-3 to yolov5pytorch: 11% [3637248 / 31844188] bytes"
     ]
    },
    {
     "name": "stdout",
     "output_type": "stream",
     "text": [
      "\rDownloading Dataset Version Zip in Celebrity-3 to yolov5pytorch: 11% [3645440 / 31844188] bytes"
     ]
    },
    {
     "name": "stdout",
     "output_type": "stream",
     "text": [
      "\rDownloading Dataset Version Zip in Celebrity-3 to yolov5pytorch: 11% [3653632 / 31844188] bytes"
     ]
    },
    {
     "name": "stdout",
     "output_type": "stream",
     "text": [
      "\rDownloading Dataset Version Zip in Celebrity-3 to yolov5pytorch: 11% [3661824 / 31844188] bytes"
     ]
    },
    {
     "name": "stdout",
     "output_type": "stream",
     "text": [
      "\rDownloading Dataset Version Zip in Celebrity-3 to yolov5pytorch: 11% [3670016 / 31844188] bytes"
     ]
    },
    {
     "name": "stdout",
     "output_type": "stream",
     "text": [
      "\rDownloading Dataset Version Zip in Celebrity-3 to yolov5pytorch: 11% [3678208 / 31844188] bytes"
     ]
    },
    {
     "name": "stdout",
     "output_type": "stream",
     "text": [
      "\rDownloading Dataset Version Zip in Celebrity-3 to yolov5pytorch: 11% [3686400 / 31844188] bytes"
     ]
    },
    {
     "name": "stdout",
     "output_type": "stream",
     "text": [
      "\rDownloading Dataset Version Zip in Celebrity-3 to yolov5pytorch: 11% [3694592 / 31844188] bytes"
     ]
    },
    {
     "name": "stdout",
     "output_type": "stream",
     "text": [
      "\rDownloading Dataset Version Zip in Celebrity-3 to yolov5pytorch: 11% [3702784 / 31844188] bytes"
     ]
    },
    {
     "name": "stdout",
     "output_type": "stream",
     "text": [
      "\rDownloading Dataset Version Zip in Celebrity-3 to yolov5pytorch: 11% [3710976 / 31844188] bytes"
     ]
    },
    {
     "name": "stdout",
     "output_type": "stream",
     "text": [
      "\rDownloading Dataset Version Zip in Celebrity-3 to yolov5pytorch: 11% [3719168 / 31844188] bytes"
     ]
    },
    {
     "name": "stdout",
     "output_type": "stream",
     "text": [
      "\rDownloading Dataset Version Zip in Celebrity-3 to yolov5pytorch: 11% [3727360 / 31844188] bytes"
     ]
    },
    {
     "name": "stdout",
     "output_type": "stream",
     "text": [
      "\rDownloading Dataset Version Zip in Celebrity-3 to yolov5pytorch: 11% [3735552 / 31844188] bytes"
     ]
    },
    {
     "name": "stdout",
     "output_type": "stream",
     "text": [
      "\rDownloading Dataset Version Zip in Celebrity-3 to yolov5pytorch: 11% [3743744 / 31844188] bytes"
     ]
    },
    {
     "name": "stdout",
     "output_type": "stream",
     "text": [
      "\rDownloading Dataset Version Zip in Celebrity-3 to yolov5pytorch: 11% [3751936 / 31844188] bytes"
     ]
    },
    {
     "name": "stdout",
     "output_type": "stream",
     "text": [
      "\rDownloading Dataset Version Zip in Celebrity-3 to yolov5pytorch: 11% [3760128 / 31844188] bytes"
     ]
    },
    {
     "name": "stdout",
     "output_type": "stream",
     "text": [
      "\rDownloading Dataset Version Zip in Celebrity-3 to yolov5pytorch: 11% [3768320 / 31844188] bytes"
     ]
    },
    {
     "name": "stdout",
     "output_type": "stream",
     "text": [
      "\rDownloading Dataset Version Zip in Celebrity-3 to yolov5pytorch: 11% [3776512 / 31844188] bytes"
     ]
    },
    {
     "name": "stdout",
     "output_type": "stream",
     "text": [
      "\rDownloading Dataset Version Zip in Celebrity-3 to yolov5pytorch: 11% [3784704 / 31844188] bytes"
     ]
    },
    {
     "name": "stdout",
     "output_type": "stream",
     "text": [
      "\rDownloading Dataset Version Zip in Celebrity-3 to yolov5pytorch: 11% [3792896 / 31844188] bytes"
     ]
    },
    {
     "name": "stdout",
     "output_type": "stream",
     "text": [
      "\rDownloading Dataset Version Zip in Celebrity-3 to yolov5pytorch: 11% [3801088 / 31844188] bytes"
     ]
    },
    {
     "name": "stdout",
     "output_type": "stream",
     "text": [
      "\rDownloading Dataset Version Zip in Celebrity-3 to yolov5pytorch: 11% [3809280 / 31844188] bytes"
     ]
    },
    {
     "name": "stdout",
     "output_type": "stream",
     "text": [
      "\rDownloading Dataset Version Zip in Celebrity-3 to yolov5pytorch: 11% [3817472 / 31844188] bytes"
     ]
    },
    {
     "name": "stdout",
     "output_type": "stream",
     "text": [
      "\rDownloading Dataset Version Zip in Celebrity-3 to yolov5pytorch: 12% [3825664 / 31844188] bytes"
     ]
    },
    {
     "name": "stdout",
     "output_type": "stream",
     "text": [
      "\rDownloading Dataset Version Zip in Celebrity-3 to yolov5pytorch: 12% [3833856 / 31844188] bytes"
     ]
    },
    {
     "name": "stdout",
     "output_type": "stream",
     "text": [
      "\rDownloading Dataset Version Zip in Celebrity-3 to yolov5pytorch: 12% [3842048 / 31844188] bytes"
     ]
    },
    {
     "name": "stdout",
     "output_type": "stream",
     "text": [
      "\rDownloading Dataset Version Zip in Celebrity-3 to yolov5pytorch: 12% [3850240 / 31844188] bytes"
     ]
    },
    {
     "name": "stdout",
     "output_type": "stream",
     "text": [
      "\rDownloading Dataset Version Zip in Celebrity-3 to yolov5pytorch: 12% [3858432 / 31844188] bytes"
     ]
    },
    {
     "name": "stdout",
     "output_type": "stream",
     "text": [
      "\rDownloading Dataset Version Zip in Celebrity-3 to yolov5pytorch: 12% [3866624 / 31844188] bytes"
     ]
    },
    {
     "name": "stdout",
     "output_type": "stream",
     "text": [
      "\rDownloading Dataset Version Zip in Celebrity-3 to yolov5pytorch: 12% [3874816 / 31844188] bytes"
     ]
    },
    {
     "name": "stdout",
     "output_type": "stream",
     "text": [
      "\rDownloading Dataset Version Zip in Celebrity-3 to yolov5pytorch: 12% [3883008 / 31844188] bytes"
     ]
    },
    {
     "name": "stdout",
     "output_type": "stream",
     "text": [
      "\rDownloading Dataset Version Zip in Celebrity-3 to yolov5pytorch: 12% [3891200 / 31844188] bytes"
     ]
    },
    {
     "name": "stdout",
     "output_type": "stream",
     "text": [
      "\rDownloading Dataset Version Zip in Celebrity-3 to yolov5pytorch: 12% [3899392 / 31844188] bytes"
     ]
    },
    {
     "name": "stdout",
     "output_type": "stream",
     "text": [
      "\rDownloading Dataset Version Zip in Celebrity-3 to yolov5pytorch: 12% [3907584 / 31844188] bytes"
     ]
    },
    {
     "name": "stdout",
     "output_type": "stream",
     "text": [
      "\rDownloading Dataset Version Zip in Celebrity-3 to yolov5pytorch: 12% [3915776 / 31844188] bytes"
     ]
    },
    {
     "name": "stdout",
     "output_type": "stream",
     "text": [
      "\rDownloading Dataset Version Zip in Celebrity-3 to yolov5pytorch: 12% [3923968 / 31844188] bytes"
     ]
    },
    {
     "name": "stdout",
     "output_type": "stream",
     "text": [
      "\rDownloading Dataset Version Zip in Celebrity-3 to yolov5pytorch: 12% [3932160 / 31844188] bytes"
     ]
    },
    {
     "name": "stdout",
     "output_type": "stream",
     "text": [
      "\rDownloading Dataset Version Zip in Celebrity-3 to yolov5pytorch: 12% [3940352 / 31844188] bytes"
     ]
    },
    {
     "name": "stdout",
     "output_type": "stream",
     "text": [
      "\rDownloading Dataset Version Zip in Celebrity-3 to yolov5pytorch: 12% [3948544 / 31844188] bytes"
     ]
    },
    {
     "name": "stdout",
     "output_type": "stream",
     "text": [
      "\rDownloading Dataset Version Zip in Celebrity-3 to yolov5pytorch: 12% [3956736 / 31844188] bytes"
     ]
    },
    {
     "name": "stdout",
     "output_type": "stream",
     "text": [
      "\rDownloading Dataset Version Zip in Celebrity-3 to yolov5pytorch: 12% [3964928 / 31844188] bytes"
     ]
    },
    {
     "name": "stdout",
     "output_type": "stream",
     "text": [
      "\rDownloading Dataset Version Zip in Celebrity-3 to yolov5pytorch: 12% [3973120 / 31844188] bytes"
     ]
    },
    {
     "name": "stdout",
     "output_type": "stream",
     "text": [
      "\rDownloading Dataset Version Zip in Celebrity-3 to yolov5pytorch: 12% [3981312 / 31844188] bytes"
     ]
    },
    {
     "name": "stdout",
     "output_type": "stream",
     "text": [
      "\rDownloading Dataset Version Zip in Celebrity-3 to yolov5pytorch: 12% [3989504 / 31844188] bytes"
     ]
    },
    {
     "name": "stdout",
     "output_type": "stream",
     "text": [
      "\rDownloading Dataset Version Zip in Celebrity-3 to yolov5pytorch: 12% [3997696 / 31844188] bytes"
     ]
    },
    {
     "name": "stdout",
     "output_type": "stream",
     "text": [
      "\rDownloading Dataset Version Zip in Celebrity-3 to yolov5pytorch: 12% [4005888 / 31844188] bytes"
     ]
    },
    {
     "name": "stdout",
     "output_type": "stream",
     "text": [
      "\rDownloading Dataset Version Zip in Celebrity-3 to yolov5pytorch: 12% [4014080 / 31844188] bytes"
     ]
    },
    {
     "name": "stdout",
     "output_type": "stream",
     "text": [
      "\rDownloading Dataset Version Zip in Celebrity-3 to yolov5pytorch: 12% [4022272 / 31844188] bytes"
     ]
    },
    {
     "name": "stdout",
     "output_type": "stream",
     "text": [
      "\rDownloading Dataset Version Zip in Celebrity-3 to yolov5pytorch: 12% [4030464 / 31844188] bytes"
     ]
    },
    {
     "name": "stdout",
     "output_type": "stream",
     "text": [
      "\rDownloading Dataset Version Zip in Celebrity-3 to yolov5pytorch: 12% [4038656 / 31844188] bytes"
     ]
    },
    {
     "name": "stdout",
     "output_type": "stream",
     "text": [
      "\rDownloading Dataset Version Zip in Celebrity-3 to yolov5pytorch: 12% [4046848 / 31844188] bytes"
     ]
    },
    {
     "name": "stdout",
     "output_type": "stream",
     "text": [
      "\rDownloading Dataset Version Zip in Celebrity-3 to yolov5pytorch: 12% [4055040 / 31844188] bytes"
     ]
    },
    {
     "name": "stdout",
     "output_type": "stream",
     "text": [
      "\rDownloading Dataset Version Zip in Celebrity-3 to yolov5pytorch: 12% [4063232 / 31844188] bytes"
     ]
    },
    {
     "name": "stdout",
     "output_type": "stream",
     "text": [
      "\rDownloading Dataset Version Zip in Celebrity-3 to yolov5pytorch: 12% [4071424 / 31844188] bytes"
     ]
    },
    {
     "name": "stdout",
     "output_type": "stream",
     "text": [
      "\rDownloading Dataset Version Zip in Celebrity-3 to yolov5pytorch: 12% [4079616 / 31844188] bytes"
     ]
    },
    {
     "name": "stdout",
     "output_type": "stream",
     "text": [
      "\rDownloading Dataset Version Zip in Celebrity-3 to yolov5pytorch: 12% [4087808 / 31844188] bytes"
     ]
    },
    {
     "name": "stdout",
     "output_type": "stream",
     "text": [
      "\rDownloading Dataset Version Zip in Celebrity-3 to yolov5pytorch: 12% [4096000 / 31844188] bytes"
     ]
    },
    {
     "name": "stdout",
     "output_type": "stream",
     "text": [
      "\rDownloading Dataset Version Zip in Celebrity-3 to yolov5pytorch: 12% [4104192 / 31844188] bytes"
     ]
    },
    {
     "name": "stdout",
     "output_type": "stream",
     "text": [
      "\rDownloading Dataset Version Zip in Celebrity-3 to yolov5pytorch: 12% [4112384 / 31844188] bytes"
     ]
    },
    {
     "name": "stdout",
     "output_type": "stream",
     "text": [
      "\rDownloading Dataset Version Zip in Celebrity-3 to yolov5pytorch: 12% [4120576 / 31844188] bytes"
     ]
    },
    {
     "name": "stdout",
     "output_type": "stream",
     "text": [
      "\rDownloading Dataset Version Zip in Celebrity-3 to yolov5pytorch: 12% [4128768 / 31844188] bytes"
     ]
    },
    {
     "name": "stdout",
     "output_type": "stream",
     "text": [
      "\rDownloading Dataset Version Zip in Celebrity-3 to yolov5pytorch: 12% [4136960 / 31844188] bytes"
     ]
    },
    {
     "name": "stdout",
     "output_type": "stream",
     "text": [
      "\rDownloading Dataset Version Zip in Celebrity-3 to yolov5pytorch: 13% [4145152 / 31844188] bytes"
     ]
    },
    {
     "name": "stdout",
     "output_type": "stream",
     "text": [
      "\rDownloading Dataset Version Zip in Celebrity-3 to yolov5pytorch: 13% [4153344 / 31844188] bytes"
     ]
    },
    {
     "name": "stdout",
     "output_type": "stream",
     "text": [
      "\rDownloading Dataset Version Zip in Celebrity-3 to yolov5pytorch: 13% [4161536 / 31844188] bytes"
     ]
    },
    {
     "name": "stdout",
     "output_type": "stream",
     "text": [
      "\rDownloading Dataset Version Zip in Celebrity-3 to yolov5pytorch: 13% [4169728 / 31844188] bytes"
     ]
    },
    {
     "name": "stdout",
     "output_type": "stream",
     "text": [
      "\rDownloading Dataset Version Zip in Celebrity-3 to yolov5pytorch: 13% [4177920 / 31844188] bytes"
     ]
    },
    {
     "name": "stdout",
     "output_type": "stream",
     "text": [
      "\rDownloading Dataset Version Zip in Celebrity-3 to yolov5pytorch: 13% [4186112 / 31844188] bytes"
     ]
    },
    {
     "name": "stdout",
     "output_type": "stream",
     "text": [
      "\rDownloading Dataset Version Zip in Celebrity-3 to yolov5pytorch: 13% [4194304 / 31844188] bytes"
     ]
    },
    {
     "name": "stdout",
     "output_type": "stream",
     "text": [
      "\rDownloading Dataset Version Zip in Celebrity-3 to yolov5pytorch: 13% [4202496 / 31844188] bytes"
     ]
    },
    {
     "name": "stdout",
     "output_type": "stream",
     "text": [
      "\rDownloading Dataset Version Zip in Celebrity-3 to yolov5pytorch: 13% [4210688 / 31844188] bytes"
     ]
    },
    {
     "name": "stdout",
     "output_type": "stream",
     "text": [
      "\rDownloading Dataset Version Zip in Celebrity-3 to yolov5pytorch: 13% [4218880 / 31844188] bytes"
     ]
    },
    {
     "name": "stdout",
     "output_type": "stream",
     "text": [
      "\rDownloading Dataset Version Zip in Celebrity-3 to yolov5pytorch: 13% [4227072 / 31844188] bytes"
     ]
    },
    {
     "name": "stdout",
     "output_type": "stream",
     "text": [
      "\rDownloading Dataset Version Zip in Celebrity-3 to yolov5pytorch: 13% [4235264 / 31844188] bytes"
     ]
    },
    {
     "name": "stdout",
     "output_type": "stream",
     "text": [
      "\rDownloading Dataset Version Zip in Celebrity-3 to yolov5pytorch: 13% [4243456 / 31844188] bytes"
     ]
    },
    {
     "name": "stdout",
     "output_type": "stream",
     "text": [
      "\rDownloading Dataset Version Zip in Celebrity-3 to yolov5pytorch: 13% [4251648 / 31844188] bytes"
     ]
    },
    {
     "name": "stdout",
     "output_type": "stream",
     "text": [
      "\rDownloading Dataset Version Zip in Celebrity-3 to yolov5pytorch: 13% [4259840 / 31844188] bytes"
     ]
    },
    {
     "name": "stdout",
     "output_type": "stream",
     "text": [
      "\rDownloading Dataset Version Zip in Celebrity-3 to yolov5pytorch: 13% [4268032 / 31844188] bytes"
     ]
    },
    {
     "name": "stdout",
     "output_type": "stream",
     "text": [
      "\rDownloading Dataset Version Zip in Celebrity-3 to yolov5pytorch: 13% [4276224 / 31844188] bytes"
     ]
    },
    {
     "name": "stdout",
     "output_type": "stream",
     "text": [
      "\rDownloading Dataset Version Zip in Celebrity-3 to yolov5pytorch: 13% [4284416 / 31844188] bytes"
     ]
    },
    {
     "name": "stdout",
     "output_type": "stream",
     "text": [
      "\rDownloading Dataset Version Zip in Celebrity-3 to yolov5pytorch: 13% [4292608 / 31844188] bytes"
     ]
    },
    {
     "name": "stdout",
     "output_type": "stream",
     "text": [
      "\rDownloading Dataset Version Zip in Celebrity-3 to yolov5pytorch: 13% [4300800 / 31844188] bytes"
     ]
    },
    {
     "name": "stdout",
     "output_type": "stream",
     "text": [
      "\rDownloading Dataset Version Zip in Celebrity-3 to yolov5pytorch: 13% [4308992 / 31844188] bytes"
     ]
    },
    {
     "name": "stdout",
     "output_type": "stream",
     "text": [
      "\rDownloading Dataset Version Zip in Celebrity-3 to yolov5pytorch: 13% [4317184 / 31844188] bytes"
     ]
    },
    {
     "name": "stdout",
     "output_type": "stream",
     "text": [
      "\rDownloading Dataset Version Zip in Celebrity-3 to yolov5pytorch: 13% [4325376 / 31844188] bytes"
     ]
    },
    {
     "name": "stdout",
     "output_type": "stream",
     "text": [
      "\rDownloading Dataset Version Zip in Celebrity-3 to yolov5pytorch: 13% [4333568 / 31844188] bytes"
     ]
    },
    {
     "name": "stdout",
     "output_type": "stream",
     "text": [
      "\rDownloading Dataset Version Zip in Celebrity-3 to yolov5pytorch: 13% [4341760 / 31844188] bytes"
     ]
    },
    {
     "name": "stdout",
     "output_type": "stream",
     "text": [
      "\rDownloading Dataset Version Zip in Celebrity-3 to yolov5pytorch: 13% [4349952 / 31844188] bytes"
     ]
    },
    {
     "name": "stdout",
     "output_type": "stream",
     "text": [
      "\rDownloading Dataset Version Zip in Celebrity-3 to yolov5pytorch: 13% [4358144 / 31844188] bytes"
     ]
    },
    {
     "name": "stdout",
     "output_type": "stream",
     "text": [
      "\rDownloading Dataset Version Zip in Celebrity-3 to yolov5pytorch: 13% [4366336 / 31844188] bytes"
     ]
    },
    {
     "name": "stdout",
     "output_type": "stream",
     "text": [
      "\rDownloading Dataset Version Zip in Celebrity-3 to yolov5pytorch: 13% [4374528 / 31844188] bytes"
     ]
    },
    {
     "name": "stdout",
     "output_type": "stream",
     "text": [
      "\rDownloading Dataset Version Zip in Celebrity-3 to yolov5pytorch: 13% [4382720 / 31844188] bytes"
     ]
    },
    {
     "name": "stdout",
     "output_type": "stream",
     "text": [
      "\rDownloading Dataset Version Zip in Celebrity-3 to yolov5pytorch: 13% [4390912 / 31844188] bytes"
     ]
    },
    {
     "name": "stdout",
     "output_type": "stream",
     "text": [
      "\rDownloading Dataset Version Zip in Celebrity-3 to yolov5pytorch: 13% [4399104 / 31844188] bytes"
     ]
    },
    {
     "name": "stdout",
     "output_type": "stream",
     "text": [
      "\rDownloading Dataset Version Zip in Celebrity-3 to yolov5pytorch: 13% [4407296 / 31844188] bytes"
     ]
    },
    {
     "name": "stdout",
     "output_type": "stream",
     "text": [
      "\rDownloading Dataset Version Zip in Celebrity-3 to yolov5pytorch: 13% [4415488 / 31844188] bytes"
     ]
    },
    {
     "name": "stdout",
     "output_type": "stream",
     "text": [
      "\rDownloading Dataset Version Zip in Celebrity-3 to yolov5pytorch: 13% [4423680 / 31844188] bytes"
     ]
    },
    {
     "name": "stdout",
     "output_type": "stream",
     "text": [
      "\rDownloading Dataset Version Zip in Celebrity-3 to yolov5pytorch: 13% [4431872 / 31844188] bytes"
     ]
    },
    {
     "name": "stdout",
     "output_type": "stream",
     "text": [
      "\rDownloading Dataset Version Zip in Celebrity-3 to yolov5pytorch: 13% [4440064 / 31844188] bytes"
     ]
    },
    {
     "name": "stdout",
     "output_type": "stream",
     "text": [
      "\rDownloading Dataset Version Zip in Celebrity-3 to yolov5pytorch: 13% [4448256 / 31844188] bytes"
     ]
    },
    {
     "name": "stdout",
     "output_type": "stream",
     "text": [
      "\rDownloading Dataset Version Zip in Celebrity-3 to yolov5pytorch: 13% [4456448 / 31844188] bytes"
     ]
    },
    {
     "name": "stdout",
     "output_type": "stream",
     "text": [
      "\rDownloading Dataset Version Zip in Celebrity-3 to yolov5pytorch: 14% [4464640 / 31844188] bytes"
     ]
    },
    {
     "name": "stdout",
     "output_type": "stream",
     "text": [
      "\rDownloading Dataset Version Zip in Celebrity-3 to yolov5pytorch: 14% [4472832 / 31844188] bytes"
     ]
    },
    {
     "name": "stdout",
     "output_type": "stream",
     "text": [
      "\rDownloading Dataset Version Zip in Celebrity-3 to yolov5pytorch: 14% [4481024 / 31844188] bytes"
     ]
    },
    {
     "name": "stdout",
     "output_type": "stream",
     "text": [
      "\rDownloading Dataset Version Zip in Celebrity-3 to yolov5pytorch: 14% [4489216 / 31844188] bytes"
     ]
    },
    {
     "name": "stdout",
     "output_type": "stream",
     "text": [
      "\rDownloading Dataset Version Zip in Celebrity-3 to yolov5pytorch: 14% [4497408 / 31844188] bytes"
     ]
    },
    {
     "name": "stdout",
     "output_type": "stream",
     "text": [
      "\rDownloading Dataset Version Zip in Celebrity-3 to yolov5pytorch: 14% [4505600 / 31844188] bytes"
     ]
    },
    {
     "name": "stdout",
     "output_type": "stream",
     "text": [
      "\rDownloading Dataset Version Zip in Celebrity-3 to yolov5pytorch: 14% [4513792 / 31844188] bytes"
     ]
    },
    {
     "name": "stdout",
     "output_type": "stream",
     "text": [
      "\rDownloading Dataset Version Zip in Celebrity-3 to yolov5pytorch: 14% [4521984 / 31844188] bytes"
     ]
    },
    {
     "name": "stdout",
     "output_type": "stream",
     "text": [
      "\rDownloading Dataset Version Zip in Celebrity-3 to yolov5pytorch: 14% [4530176 / 31844188] bytes"
     ]
    },
    {
     "name": "stdout",
     "output_type": "stream",
     "text": [
      "\rDownloading Dataset Version Zip in Celebrity-3 to yolov5pytorch: 14% [4538368 / 31844188] bytes"
     ]
    },
    {
     "name": "stdout",
     "output_type": "stream",
     "text": [
      "\rDownloading Dataset Version Zip in Celebrity-3 to yolov5pytorch: 14% [4546560 / 31844188] bytes"
     ]
    },
    {
     "name": "stdout",
     "output_type": "stream",
     "text": [
      "\rDownloading Dataset Version Zip in Celebrity-3 to yolov5pytorch: 14% [4554752 / 31844188] bytes"
     ]
    },
    {
     "name": "stdout",
     "output_type": "stream",
     "text": [
      "\rDownloading Dataset Version Zip in Celebrity-3 to yolov5pytorch: 14% [4562944 / 31844188] bytes"
     ]
    },
    {
     "name": "stdout",
     "output_type": "stream",
     "text": [
      "\rDownloading Dataset Version Zip in Celebrity-3 to yolov5pytorch: 14% [4571136 / 31844188] bytes"
     ]
    },
    {
     "name": "stdout",
     "output_type": "stream",
     "text": [
      "\rDownloading Dataset Version Zip in Celebrity-3 to yolov5pytorch: 14% [4579328 / 31844188] bytes"
     ]
    },
    {
     "name": "stdout",
     "output_type": "stream",
     "text": [
      "\rDownloading Dataset Version Zip in Celebrity-3 to yolov5pytorch: 14% [4587520 / 31844188] bytes"
     ]
    },
    {
     "name": "stdout",
     "output_type": "stream",
     "text": [
      "\rDownloading Dataset Version Zip in Celebrity-3 to yolov5pytorch: 14% [4595712 / 31844188] bytes"
     ]
    },
    {
     "name": "stdout",
     "output_type": "stream",
     "text": [
      "\rDownloading Dataset Version Zip in Celebrity-3 to yolov5pytorch: 14% [4603904 / 31844188] bytes"
     ]
    },
    {
     "name": "stdout",
     "output_type": "stream",
     "text": [
      "\rDownloading Dataset Version Zip in Celebrity-3 to yolov5pytorch: 14% [4612096 / 31844188] bytes"
     ]
    },
    {
     "name": "stdout",
     "output_type": "stream",
     "text": [
      "\rDownloading Dataset Version Zip in Celebrity-3 to yolov5pytorch: 14% [4620288 / 31844188] bytes"
     ]
    },
    {
     "name": "stdout",
     "output_type": "stream",
     "text": [
      "\rDownloading Dataset Version Zip in Celebrity-3 to yolov5pytorch: 14% [4628480 / 31844188] bytes"
     ]
    },
    {
     "name": "stdout",
     "output_type": "stream",
     "text": [
      "\rDownloading Dataset Version Zip in Celebrity-3 to yolov5pytorch: 14% [4636672 / 31844188] bytes"
     ]
    },
    {
     "name": "stdout",
     "output_type": "stream",
     "text": [
      "\rDownloading Dataset Version Zip in Celebrity-3 to yolov5pytorch: 14% [4644864 / 31844188] bytes"
     ]
    },
    {
     "name": "stdout",
     "output_type": "stream",
     "text": [
      "\rDownloading Dataset Version Zip in Celebrity-3 to yolov5pytorch: 14% [4653056 / 31844188] bytes"
     ]
    },
    {
     "name": "stdout",
     "output_type": "stream",
     "text": [
      "\rDownloading Dataset Version Zip in Celebrity-3 to yolov5pytorch: 14% [4661248 / 31844188] bytes"
     ]
    },
    {
     "name": "stdout",
     "output_type": "stream",
     "text": [
      "\rDownloading Dataset Version Zip in Celebrity-3 to yolov5pytorch: 14% [4669440 / 31844188] bytes"
     ]
    },
    {
     "name": "stdout",
     "output_type": "stream",
     "text": [
      "\rDownloading Dataset Version Zip in Celebrity-3 to yolov5pytorch: 14% [4677632 / 31844188] bytes"
     ]
    },
    {
     "name": "stdout",
     "output_type": "stream",
     "text": [
      "\rDownloading Dataset Version Zip in Celebrity-3 to yolov5pytorch: 14% [4685824 / 31844188] bytes"
     ]
    },
    {
     "name": "stdout",
     "output_type": "stream",
     "text": [
      "\rDownloading Dataset Version Zip in Celebrity-3 to yolov5pytorch: 14% [4694016 / 31844188] bytes"
     ]
    },
    {
     "name": "stdout",
     "output_type": "stream",
     "text": [
      "\rDownloading Dataset Version Zip in Celebrity-3 to yolov5pytorch: 14% [4702208 / 31844188] bytes"
     ]
    },
    {
     "name": "stdout",
     "output_type": "stream",
     "text": [
      "\rDownloading Dataset Version Zip in Celebrity-3 to yolov5pytorch: 14% [4710400 / 31844188] bytes"
     ]
    },
    {
     "name": "stdout",
     "output_type": "stream",
     "text": [
      "\rDownloading Dataset Version Zip in Celebrity-3 to yolov5pytorch: 14% [4718592 / 31844188] bytes"
     ]
    },
    {
     "name": "stdout",
     "output_type": "stream",
     "text": [
      "\rDownloading Dataset Version Zip in Celebrity-3 to yolov5pytorch: 14% [4726784 / 31844188] bytes"
     ]
    },
    {
     "name": "stdout",
     "output_type": "stream",
     "text": [
      "\rDownloading Dataset Version Zip in Celebrity-3 to yolov5pytorch: 14% [4734976 / 31844188] bytes"
     ]
    },
    {
     "name": "stdout",
     "output_type": "stream",
     "text": [
      "\rDownloading Dataset Version Zip in Celebrity-3 to yolov5pytorch: 14% [4743168 / 31844188] bytes"
     ]
    },
    {
     "name": "stdout",
     "output_type": "stream",
     "text": [
      "\rDownloading Dataset Version Zip in Celebrity-3 to yolov5pytorch: 14% [4751360 / 31844188] bytes"
     ]
    },
    {
     "name": "stdout",
     "output_type": "stream",
     "text": [
      "\rDownloading Dataset Version Zip in Celebrity-3 to yolov5pytorch: 14% [4759552 / 31844188] bytes"
     ]
    },
    {
     "name": "stdout",
     "output_type": "stream",
     "text": [
      "\rDownloading Dataset Version Zip in Celebrity-3 to yolov5pytorch: 14% [4767744 / 31844188] bytes"
     ]
    },
    {
     "name": "stdout",
     "output_type": "stream",
     "text": [
      "\rDownloading Dataset Version Zip in Celebrity-3 to yolov5pytorch: 14% [4775936 / 31844188] bytes"
     ]
    },
    {
     "name": "stdout",
     "output_type": "stream",
     "text": [
      "\rDownloading Dataset Version Zip in Celebrity-3 to yolov5pytorch: 15% [4784128 / 31844188] bytes"
     ]
    },
    {
     "name": "stdout",
     "output_type": "stream",
     "text": [
      "\rDownloading Dataset Version Zip in Celebrity-3 to yolov5pytorch: 15% [4792320 / 31844188] bytes"
     ]
    },
    {
     "name": "stdout",
     "output_type": "stream",
     "text": [
      "\rDownloading Dataset Version Zip in Celebrity-3 to yolov5pytorch: 15% [4800512 / 31844188] bytes"
     ]
    },
    {
     "name": "stdout",
     "output_type": "stream",
     "text": [
      "\rDownloading Dataset Version Zip in Celebrity-3 to yolov5pytorch: 15% [4808704 / 31844188] bytes"
     ]
    },
    {
     "name": "stdout",
     "output_type": "stream",
     "text": [
      "\rDownloading Dataset Version Zip in Celebrity-3 to yolov5pytorch: 15% [4816896 / 31844188] bytes"
     ]
    },
    {
     "name": "stdout",
     "output_type": "stream",
     "text": [
      "\rDownloading Dataset Version Zip in Celebrity-3 to yolov5pytorch: 15% [4825088 / 31844188] bytes"
     ]
    },
    {
     "name": "stdout",
     "output_type": "stream",
     "text": [
      "\rDownloading Dataset Version Zip in Celebrity-3 to yolov5pytorch: 15% [4833280 / 31844188] bytes"
     ]
    },
    {
     "name": "stdout",
     "output_type": "stream",
     "text": [
      "\rDownloading Dataset Version Zip in Celebrity-3 to yolov5pytorch: 15% [4841472 / 31844188] bytes"
     ]
    },
    {
     "name": "stdout",
     "output_type": "stream",
     "text": [
      "\rDownloading Dataset Version Zip in Celebrity-3 to yolov5pytorch: 15% [4849664 / 31844188] bytes"
     ]
    },
    {
     "name": "stdout",
     "output_type": "stream",
     "text": [
      "\rDownloading Dataset Version Zip in Celebrity-3 to yolov5pytorch: 15% [4857856 / 31844188] bytes"
     ]
    },
    {
     "name": "stdout",
     "output_type": "stream",
     "text": [
      "\rDownloading Dataset Version Zip in Celebrity-3 to yolov5pytorch: 15% [4866048 / 31844188] bytes"
     ]
    },
    {
     "name": "stdout",
     "output_type": "stream",
     "text": [
      "\rDownloading Dataset Version Zip in Celebrity-3 to yolov5pytorch: 15% [4874240 / 31844188] bytes"
     ]
    },
    {
     "name": "stdout",
     "output_type": "stream",
     "text": [
      "\rDownloading Dataset Version Zip in Celebrity-3 to yolov5pytorch: 15% [4882432 / 31844188] bytes"
     ]
    },
    {
     "name": "stdout",
     "output_type": "stream",
     "text": [
      "\rDownloading Dataset Version Zip in Celebrity-3 to yolov5pytorch: 15% [4890624 / 31844188] bytes"
     ]
    },
    {
     "name": "stdout",
     "output_type": "stream",
     "text": [
      "\rDownloading Dataset Version Zip in Celebrity-3 to yolov5pytorch: 15% [4898816 / 31844188] bytes"
     ]
    },
    {
     "name": "stdout",
     "output_type": "stream",
     "text": [
      "\rDownloading Dataset Version Zip in Celebrity-3 to yolov5pytorch: 15% [4907008 / 31844188] bytes"
     ]
    },
    {
     "name": "stdout",
     "output_type": "stream",
     "text": [
      "\rDownloading Dataset Version Zip in Celebrity-3 to yolov5pytorch: 15% [4915200 / 31844188] bytes"
     ]
    },
    {
     "name": "stdout",
     "output_type": "stream",
     "text": [
      "\rDownloading Dataset Version Zip in Celebrity-3 to yolov5pytorch: 15% [4923392 / 31844188] bytes"
     ]
    },
    {
     "name": "stdout",
     "output_type": "stream",
     "text": [
      "\rDownloading Dataset Version Zip in Celebrity-3 to yolov5pytorch: 15% [4931584 / 31844188] bytes"
     ]
    },
    {
     "name": "stdout",
     "output_type": "stream",
     "text": [
      "\rDownloading Dataset Version Zip in Celebrity-3 to yolov5pytorch: 15% [4939776 / 31844188] bytes"
     ]
    },
    {
     "name": "stdout",
     "output_type": "stream",
     "text": [
      "\rDownloading Dataset Version Zip in Celebrity-3 to yolov5pytorch: 15% [4947968 / 31844188] bytes"
     ]
    },
    {
     "name": "stdout",
     "output_type": "stream",
     "text": [
      "\rDownloading Dataset Version Zip in Celebrity-3 to yolov5pytorch: 15% [4956160 / 31844188] bytes"
     ]
    },
    {
     "name": "stdout",
     "output_type": "stream",
     "text": [
      "\rDownloading Dataset Version Zip in Celebrity-3 to yolov5pytorch: 15% [4964352 / 31844188] bytes"
     ]
    },
    {
     "name": "stdout",
     "output_type": "stream",
     "text": [
      "\rDownloading Dataset Version Zip in Celebrity-3 to yolov5pytorch: 15% [4972544 / 31844188] bytes"
     ]
    },
    {
     "name": "stdout",
     "output_type": "stream",
     "text": [
      "\rDownloading Dataset Version Zip in Celebrity-3 to yolov5pytorch: 15% [4980736 / 31844188] bytes"
     ]
    },
    {
     "name": "stdout",
     "output_type": "stream",
     "text": [
      "\rDownloading Dataset Version Zip in Celebrity-3 to yolov5pytorch: 15% [4988928 / 31844188] bytes"
     ]
    },
    {
     "name": "stdout",
     "output_type": "stream",
     "text": [
      "\rDownloading Dataset Version Zip in Celebrity-3 to yolov5pytorch: 15% [4997120 / 31844188] bytes"
     ]
    },
    {
     "name": "stdout",
     "output_type": "stream",
     "text": [
      "\rDownloading Dataset Version Zip in Celebrity-3 to yolov5pytorch: 15% [5005312 / 31844188] bytes"
     ]
    },
    {
     "name": "stdout",
     "output_type": "stream",
     "text": [
      "\rDownloading Dataset Version Zip in Celebrity-3 to yolov5pytorch: 15% [5013504 / 31844188] bytes"
     ]
    },
    {
     "name": "stdout",
     "output_type": "stream",
     "text": [
      "\rDownloading Dataset Version Zip in Celebrity-3 to yolov5pytorch: 15% [5021696 / 31844188] bytes"
     ]
    },
    {
     "name": "stdout",
     "output_type": "stream",
     "text": [
      "\rDownloading Dataset Version Zip in Celebrity-3 to yolov5pytorch: 15% [5029888 / 31844188] bytes"
     ]
    },
    {
     "name": "stdout",
     "output_type": "stream",
     "text": [
      "\rDownloading Dataset Version Zip in Celebrity-3 to yolov5pytorch: 15% [5038080 / 31844188] bytes"
     ]
    },
    {
     "name": "stdout",
     "output_type": "stream",
     "text": [
      "\rDownloading Dataset Version Zip in Celebrity-3 to yolov5pytorch: 15% [5046272 / 31844188] bytes"
     ]
    },
    {
     "name": "stdout",
     "output_type": "stream",
     "text": [
      "\rDownloading Dataset Version Zip in Celebrity-3 to yolov5pytorch: 15% [5054464 / 31844188] bytes"
     ]
    },
    {
     "name": "stdout",
     "output_type": "stream",
     "text": [
      "\rDownloading Dataset Version Zip in Celebrity-3 to yolov5pytorch: 15% [5062656 / 31844188] bytes"
     ]
    },
    {
     "name": "stdout",
     "output_type": "stream",
     "text": [
      "\rDownloading Dataset Version Zip in Celebrity-3 to yolov5pytorch: 15% [5070848 / 31844188] bytes"
     ]
    },
    {
     "name": "stdout",
     "output_type": "stream",
     "text": [
      "\rDownloading Dataset Version Zip in Celebrity-3 to yolov5pytorch: 15% [5079040 / 31844188] bytes"
     ]
    },
    {
     "name": "stdout",
     "output_type": "stream",
     "text": [
      "\rDownloading Dataset Version Zip in Celebrity-3 to yolov5pytorch: 15% [5087232 / 31844188] bytes"
     ]
    },
    {
     "name": "stdout",
     "output_type": "stream",
     "text": [
      "\rDownloading Dataset Version Zip in Celebrity-3 to yolov5pytorch: 16% [5095424 / 31844188] bytes"
     ]
    },
    {
     "name": "stdout",
     "output_type": "stream",
     "text": [
      "\rDownloading Dataset Version Zip in Celebrity-3 to yolov5pytorch: 16% [5103616 / 31844188] bytes"
     ]
    },
    {
     "name": "stdout",
     "output_type": "stream",
     "text": [
      "\rDownloading Dataset Version Zip in Celebrity-3 to yolov5pytorch: 16% [5111808 / 31844188] bytes"
     ]
    },
    {
     "name": "stdout",
     "output_type": "stream",
     "text": [
      "\rDownloading Dataset Version Zip in Celebrity-3 to yolov5pytorch: 16% [5120000 / 31844188] bytes"
     ]
    },
    {
     "name": "stdout",
     "output_type": "stream",
     "text": [
      "\rDownloading Dataset Version Zip in Celebrity-3 to yolov5pytorch: 16% [5128192 / 31844188] bytes"
     ]
    },
    {
     "name": "stdout",
     "output_type": "stream",
     "text": [
      "\rDownloading Dataset Version Zip in Celebrity-3 to yolov5pytorch: 16% [5136384 / 31844188] bytes"
     ]
    },
    {
     "name": "stdout",
     "output_type": "stream",
     "text": [
      "\rDownloading Dataset Version Zip in Celebrity-3 to yolov5pytorch: 16% [5144576 / 31844188] bytes"
     ]
    },
    {
     "name": "stdout",
     "output_type": "stream",
     "text": [
      "\rDownloading Dataset Version Zip in Celebrity-3 to yolov5pytorch: 16% [5152768 / 31844188] bytes"
     ]
    },
    {
     "name": "stdout",
     "output_type": "stream",
     "text": [
      "\rDownloading Dataset Version Zip in Celebrity-3 to yolov5pytorch: 16% [5160960 / 31844188] bytes"
     ]
    },
    {
     "name": "stdout",
     "output_type": "stream",
     "text": [
      "\rDownloading Dataset Version Zip in Celebrity-3 to yolov5pytorch: 16% [5169152 / 31844188] bytes"
     ]
    },
    {
     "name": "stdout",
     "output_type": "stream",
     "text": [
      "\rDownloading Dataset Version Zip in Celebrity-3 to yolov5pytorch: 16% [5177344 / 31844188] bytes"
     ]
    },
    {
     "name": "stdout",
     "output_type": "stream",
     "text": [
      "\rDownloading Dataset Version Zip in Celebrity-3 to yolov5pytorch: 16% [5185536 / 31844188] bytes"
     ]
    },
    {
     "name": "stdout",
     "output_type": "stream",
     "text": [
      "\rDownloading Dataset Version Zip in Celebrity-3 to yolov5pytorch: 16% [5193728 / 31844188] bytes"
     ]
    },
    {
     "name": "stdout",
     "output_type": "stream",
     "text": [
      "\rDownloading Dataset Version Zip in Celebrity-3 to yolov5pytorch: 16% [5201920 / 31844188] bytes"
     ]
    },
    {
     "name": "stdout",
     "output_type": "stream",
     "text": [
      "\rDownloading Dataset Version Zip in Celebrity-3 to yolov5pytorch: 16% [5210112 / 31844188] bytes"
     ]
    },
    {
     "name": "stdout",
     "output_type": "stream",
     "text": [
      "\rDownloading Dataset Version Zip in Celebrity-3 to yolov5pytorch: 16% [5218304 / 31844188] bytes"
     ]
    },
    {
     "name": "stdout",
     "output_type": "stream",
     "text": [
      "\rDownloading Dataset Version Zip in Celebrity-3 to yolov5pytorch: 16% [5226496 / 31844188] bytes"
     ]
    },
    {
     "name": "stdout",
     "output_type": "stream",
     "text": [
      "\rDownloading Dataset Version Zip in Celebrity-3 to yolov5pytorch: 16% [5234688 / 31844188] bytes"
     ]
    },
    {
     "name": "stdout",
     "output_type": "stream",
     "text": [
      "\rDownloading Dataset Version Zip in Celebrity-3 to yolov5pytorch: 16% [5242880 / 31844188] bytes"
     ]
    },
    {
     "name": "stdout",
     "output_type": "stream",
     "text": [
      "\rDownloading Dataset Version Zip in Celebrity-3 to yolov5pytorch: 16% [5251072 / 31844188] bytes"
     ]
    },
    {
     "name": "stdout",
     "output_type": "stream",
     "text": [
      "\rDownloading Dataset Version Zip in Celebrity-3 to yolov5pytorch: 16% [5259264 / 31844188] bytes"
     ]
    },
    {
     "name": "stdout",
     "output_type": "stream",
     "text": [
      "\rDownloading Dataset Version Zip in Celebrity-3 to yolov5pytorch: 16% [5267456 / 31844188] bytes"
     ]
    },
    {
     "name": "stdout",
     "output_type": "stream",
     "text": [
      "\rDownloading Dataset Version Zip in Celebrity-3 to yolov5pytorch: 16% [5275648 / 31844188] bytes"
     ]
    },
    {
     "name": "stdout",
     "output_type": "stream",
     "text": [
      "\rDownloading Dataset Version Zip in Celebrity-3 to yolov5pytorch: 16% [5283840 / 31844188] bytes"
     ]
    },
    {
     "name": "stdout",
     "output_type": "stream",
     "text": [
      "\rDownloading Dataset Version Zip in Celebrity-3 to yolov5pytorch: 16% [5292032 / 31844188] bytes"
     ]
    },
    {
     "name": "stdout",
     "output_type": "stream",
     "text": [
      "\rDownloading Dataset Version Zip in Celebrity-3 to yolov5pytorch: 16% [5300224 / 31844188] bytes"
     ]
    },
    {
     "name": "stdout",
     "output_type": "stream",
     "text": [
      "\rDownloading Dataset Version Zip in Celebrity-3 to yolov5pytorch: 16% [5308416 / 31844188] bytes"
     ]
    },
    {
     "name": "stdout",
     "output_type": "stream",
     "text": [
      "\rDownloading Dataset Version Zip in Celebrity-3 to yolov5pytorch: 16% [5316608 / 31844188] bytes"
     ]
    },
    {
     "name": "stdout",
     "output_type": "stream",
     "text": [
      "\rDownloading Dataset Version Zip in Celebrity-3 to yolov5pytorch: 16% [5324800 / 31844188] bytes"
     ]
    },
    {
     "name": "stdout",
     "output_type": "stream",
     "text": [
      "\rDownloading Dataset Version Zip in Celebrity-3 to yolov5pytorch: 16% [5332992 / 31844188] bytes"
     ]
    },
    {
     "name": "stdout",
     "output_type": "stream",
     "text": [
      "\rDownloading Dataset Version Zip in Celebrity-3 to yolov5pytorch: 16% [5341184 / 31844188] bytes"
     ]
    },
    {
     "name": "stdout",
     "output_type": "stream",
     "text": [
      "\rDownloading Dataset Version Zip in Celebrity-3 to yolov5pytorch: 16% [5349376 / 31844188] bytes"
     ]
    },
    {
     "name": "stdout",
     "output_type": "stream",
     "text": [
      "\rDownloading Dataset Version Zip in Celebrity-3 to yolov5pytorch: 16% [5357568 / 31844188] bytes"
     ]
    },
    {
     "name": "stdout",
     "output_type": "stream",
     "text": [
      "\rDownloading Dataset Version Zip in Celebrity-3 to yolov5pytorch: 16% [5365760 / 31844188] bytes"
     ]
    },
    {
     "name": "stdout",
     "output_type": "stream",
     "text": [
      "\rDownloading Dataset Version Zip in Celebrity-3 to yolov5pytorch: 16% [5373952 / 31844188] bytes"
     ]
    },
    {
     "name": "stdout",
     "output_type": "stream",
     "text": [
      "\rDownloading Dataset Version Zip in Celebrity-3 to yolov5pytorch: 16% [5382144 / 31844188] bytes"
     ]
    },
    {
     "name": "stdout",
     "output_type": "stream",
     "text": [
      "\rDownloading Dataset Version Zip in Celebrity-3 to yolov5pytorch: 16% [5390336 / 31844188] bytes"
     ]
    },
    {
     "name": "stdout",
     "output_type": "stream",
     "text": [
      "\rDownloading Dataset Version Zip in Celebrity-3 to yolov5pytorch: 16% [5398528 / 31844188] bytes"
     ]
    },
    {
     "name": "stdout",
     "output_type": "stream",
     "text": [
      "\rDownloading Dataset Version Zip in Celebrity-3 to yolov5pytorch: 16% [5406720 / 31844188] bytes"
     ]
    },
    {
     "name": "stdout",
     "output_type": "stream",
     "text": [
      "\rDownloading Dataset Version Zip in Celebrity-3 to yolov5pytorch: 17% [5414912 / 31844188] bytes"
     ]
    },
    {
     "name": "stdout",
     "output_type": "stream",
     "text": [
      "\rDownloading Dataset Version Zip in Celebrity-3 to yolov5pytorch: 17% [5423104 / 31844188] bytes"
     ]
    },
    {
     "name": "stderr",
     "output_type": "stream",
     "text": [
      "WARNING: Some output was deleted.\n"
     ]
    }
   ],
   "source": [
    "!pip install roboflow\n",
    "\n",
    "from roboflow import Roboflow\n",
    "rf = Roboflow(api_key=\"k2WOOO6rR2RCQMdOYmdY\")\n",
    "project = rf.workspace(\"ai-camp-wanon\").project(\"celebrity-cavye\")\n",
    "dataset = project.version(3).download(\"yolov5\")"
   ]
  }
 ],
 "metadata": {
  "kernelspec": {
   "display_name": "Python (cv_env)",
   "language": "python",
   "metadata": {
    "debugger": true
   },
   "name": "cv_env",
   "resource_dir": "/projects/e3d2641f-202e-4d19-8d28-c5191fb7dcfc/.local/share/jupyter/kernels/cv_env"
  },
  "language_info": {
   "codemirror_mode": {
    "name": "ipython",
    "version": 3
   },
   "file_extension": ".py",
   "mimetype": "text/x-python",
   "name": "python",
   "nbconvert_exporter": "python",
   "pygments_lexer": "ipython3",
   "version": "3.8.13"
  }
 },
 "nbformat": 4,
 "nbformat_minor": 4
}